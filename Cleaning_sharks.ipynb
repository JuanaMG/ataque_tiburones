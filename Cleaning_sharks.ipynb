{
 "cells": [
  {
   "cell_type": "code",
   "execution_count": 1,
   "id": "91082d33",
   "metadata": {},
   "outputs": [],
   "source": [
    "import numpy as np\n",
    "import pandas as pd\n",
    "import seaborn as sns\n",
    "import matplotlib.pyplot as plt"
   ]
  },
  {
   "cell_type": "code",
   "execution_count": 2,
   "id": "8e8a5d3f",
   "metadata": {},
   "outputs": [
    {
     "data": {
      "text/plain": [
       "'/mnt/c/Users/Juana Mari/Desktop/Ironhack/Proyectos/ataque_tiburones'"
      ]
     },
     "execution_count": 2,
     "metadata": {},
     "output_type": "execute_result"
    }
   ],
   "source": [
    "import os\n",
    "os.getcwd()"
   ]
  },
  {
   "cell_type": "code",
   "execution_count": 3,
   "id": "d8d6af32",
   "metadata": {
    "scrolled": false
   },
   "outputs": [
    {
     "data": {
      "text/html": [
       "<div>\n",
       "<style scoped>\n",
       "    .dataframe tbody tr th:only-of-type {\n",
       "        vertical-align: middle;\n",
       "    }\n",
       "\n",
       "    .dataframe tbody tr th {\n",
       "        vertical-align: top;\n",
       "    }\n",
       "\n",
       "    .dataframe thead th {\n",
       "        text-align: right;\n",
       "    }\n",
       "</style>\n",
       "<table border=\"1\" class=\"dataframe\">\n",
       "  <thead>\n",
       "    <tr style=\"text-align: right;\">\n",
       "      <th></th>\n",
       "      <th>Case Number</th>\n",
       "      <th>Date</th>\n",
       "      <th>Year</th>\n",
       "      <th>Type</th>\n",
       "      <th>Country</th>\n",
       "      <th>Area</th>\n",
       "      <th>Location</th>\n",
       "      <th>Activity</th>\n",
       "      <th>Name</th>\n",
       "      <th>Sex</th>\n",
       "      <th>...</th>\n",
       "      <th>Species</th>\n",
       "      <th>Investigator or Source</th>\n",
       "      <th>pdf</th>\n",
       "      <th>href formula</th>\n",
       "      <th>href</th>\n",
       "      <th>Case Number.1</th>\n",
       "      <th>Case Number.2</th>\n",
       "      <th>original order</th>\n",
       "      <th>Unnamed: 22</th>\n",
       "      <th>Unnamed: 23</th>\n",
       "    </tr>\n",
       "  </thead>\n",
       "  <tbody>\n",
       "    <tr>\n",
       "      <th>20494</th>\n",
       "      <td>NaN</td>\n",
       "      <td>NaN</td>\n",
       "      <td>NaN</td>\n",
       "      <td>NaN</td>\n",
       "      <td>NaN</td>\n",
       "      <td>NaN</td>\n",
       "      <td>NaN</td>\n",
       "      <td>NaN</td>\n",
       "      <td>NaN</td>\n",
       "      <td>NaN</td>\n",
       "      <td>...</td>\n",
       "      <td>NaN</td>\n",
       "      <td>NaN</td>\n",
       "      <td>NaN</td>\n",
       "      <td>NaN</td>\n",
       "      <td>NaN</td>\n",
       "      <td>NaN</td>\n",
       "      <td>NaN</td>\n",
       "      <td>NaN</td>\n",
       "      <td>NaN</td>\n",
       "      <td>NaN</td>\n",
       "    </tr>\n",
       "    <tr>\n",
       "      <th>4738</th>\n",
       "      <td>1941.08.21.R</td>\n",
       "      <td>Reported 21-Aug-1941</td>\n",
       "      <td>1941.0</td>\n",
       "      <td>Provoked</td>\n",
       "      <td>USA</td>\n",
       "      <td>New York</td>\n",
       "      <td>Montauk</td>\n",
       "      <td>Fishing</td>\n",
       "      <td>Captain Jack Kelly</td>\n",
       "      <td>NaN</td>\n",
       "      <td>...</td>\n",
       "      <td>NaN</td>\n",
       "      <td>New York Times, 8/21/1941</td>\n",
       "      <td>1941.08.21.R-Kelly.pdf</td>\n",
       "      <td>http://sharkattackfile.net/spreadsheets/pdf_di...</td>\n",
       "      <td>http://sharkattackfile.net/spreadsheets/pdf_di...</td>\n",
       "      <td>1941.08.21.R</td>\n",
       "      <td>1941.08.21.R</td>\n",
       "      <td>1565.0</td>\n",
       "      <td>NaN</td>\n",
       "      <td>NaN</td>\n",
       "    </tr>\n",
       "    <tr>\n",
       "      <th>25146</th>\n",
       "      <td>NaN</td>\n",
       "      <td>NaN</td>\n",
       "      <td>NaN</td>\n",
       "      <td>NaN</td>\n",
       "      <td>NaN</td>\n",
       "      <td>NaN</td>\n",
       "      <td>NaN</td>\n",
       "      <td>NaN</td>\n",
       "      <td>NaN</td>\n",
       "      <td>NaN</td>\n",
       "      <td>...</td>\n",
       "      <td>NaN</td>\n",
       "      <td>NaN</td>\n",
       "      <td>NaN</td>\n",
       "      <td>NaN</td>\n",
       "      <td>NaN</td>\n",
       "      <td>NaN</td>\n",
       "      <td>NaN</td>\n",
       "      <td>NaN</td>\n",
       "      <td>NaN</td>\n",
       "      <td>NaN</td>\n",
       "    </tr>\n",
       "    <tr>\n",
       "      <th>18404</th>\n",
       "      <td>NaN</td>\n",
       "      <td>NaN</td>\n",
       "      <td>NaN</td>\n",
       "      <td>NaN</td>\n",
       "      <td>NaN</td>\n",
       "      <td>NaN</td>\n",
       "      <td>NaN</td>\n",
       "      <td>NaN</td>\n",
       "      <td>NaN</td>\n",
       "      <td>NaN</td>\n",
       "      <td>...</td>\n",
       "      <td>NaN</td>\n",
       "      <td>NaN</td>\n",
       "      <td>NaN</td>\n",
       "      <td>NaN</td>\n",
       "      <td>NaN</td>\n",
       "      <td>NaN</td>\n",
       "      <td>NaN</td>\n",
       "      <td>NaN</td>\n",
       "      <td>NaN</td>\n",
       "      <td>NaN</td>\n",
       "    </tr>\n",
       "    <tr>\n",
       "      <th>6637</th>\n",
       "      <td>0</td>\n",
       "      <td>NaN</td>\n",
       "      <td>NaN</td>\n",
       "      <td>NaN</td>\n",
       "      <td>NaN</td>\n",
       "      <td>NaN</td>\n",
       "      <td>NaN</td>\n",
       "      <td>NaN</td>\n",
       "      <td>NaN</td>\n",
       "      <td>NaN</td>\n",
       "      <td>...</td>\n",
       "      <td>NaN</td>\n",
       "      <td>NaN</td>\n",
       "      <td>NaN</td>\n",
       "      <td>NaN</td>\n",
       "      <td>NaN</td>\n",
       "      <td>NaN</td>\n",
       "      <td>NaN</td>\n",
       "      <td>NaN</td>\n",
       "      <td>NaN</td>\n",
       "      <td>NaN</td>\n",
       "    </tr>\n",
       "  </tbody>\n",
       "</table>\n",
       "<p>5 rows × 24 columns</p>\n",
       "</div>"
      ],
      "text/plain": [
       "        Case Number                  Date    Year      Type Country      Area  \\\n",
       "20494           NaN                   NaN     NaN       NaN     NaN       NaN   \n",
       "4738   1941.08.21.R  Reported 21-Aug-1941  1941.0  Provoked     USA  New York   \n",
       "25146           NaN                   NaN     NaN       NaN     NaN       NaN   \n",
       "18404           NaN                   NaN     NaN       NaN     NaN       NaN   \n",
       "6637              0                   NaN     NaN       NaN     NaN       NaN   \n",
       "\n",
       "      Location Activity                Name Sex   ... Species   \\\n",
       "20494      NaN      NaN                 NaN  NaN  ...      NaN   \n",
       "4738   Montauk  Fishing  Captain Jack Kelly  NaN  ...      NaN   \n",
       "25146      NaN      NaN                 NaN  NaN  ...      NaN   \n",
       "18404      NaN      NaN                 NaN  NaN  ...      NaN   \n",
       "6637       NaN      NaN                 NaN  NaN  ...      NaN   \n",
       "\n",
       "          Investigator or Source                     pdf  \\\n",
       "20494                        NaN                     NaN   \n",
       "4738   New York Times, 8/21/1941  1941.08.21.R-Kelly.pdf   \n",
       "25146                        NaN                     NaN   \n",
       "18404                        NaN                     NaN   \n",
       "6637                         NaN                     NaN   \n",
       "\n",
       "                                            href formula  \\\n",
       "20494                                                NaN   \n",
       "4738   http://sharkattackfile.net/spreadsheets/pdf_di...   \n",
       "25146                                                NaN   \n",
       "18404                                                NaN   \n",
       "6637                                                 NaN   \n",
       "\n",
       "                                                    href Case Number.1  \\\n",
       "20494                                                NaN           NaN   \n",
       "4738   http://sharkattackfile.net/spreadsheets/pdf_di...  1941.08.21.R   \n",
       "25146                                                NaN           NaN   \n",
       "18404                                                NaN           NaN   \n",
       "6637                                                 NaN           NaN   \n",
       "\n",
       "      Case Number.2 original order Unnamed: 22 Unnamed: 23  \n",
       "20494           NaN            NaN         NaN         NaN  \n",
       "4738   1941.08.21.R         1565.0         NaN         NaN  \n",
       "25146           NaN            NaN         NaN         NaN  \n",
       "18404           NaN            NaN         NaN         NaN  \n",
       "6637            NaN            NaN         NaN         NaN  \n",
       "\n",
       "[5 rows x 24 columns]"
      ]
     },
     "execution_count": 3,
     "metadata": {},
     "output_type": "execute_result"
    }
   ],
   "source": [
    "tiburon = pd.read_csv(\"data/attacks.csv\", encoding = \"ISO-8859-1\")\n",
    "tiburon.sample(5)"
   ]
  },
  {
   "cell_type": "code",
   "execution_count": 4,
   "id": "3fe6155d",
   "metadata": {},
   "outputs": [
    {
     "data": {
      "text/plain": [
       "pandas.core.frame.DataFrame"
      ]
     },
     "execution_count": 4,
     "metadata": {},
     "output_type": "execute_result"
    }
   ],
   "source": [
    "# Verificamos que sea un dataframe\n",
    "type(tiburon)"
   ]
  },
  {
   "cell_type": "code",
   "execution_count": 5,
   "id": "b326f2ee",
   "metadata": {},
   "outputs": [
    {
     "data": {
      "text/plain": [
       "Case Number                object\n",
       "Date                       object\n",
       "Year                      float64\n",
       "Type                       object\n",
       "Country                    object\n",
       "Area                       object\n",
       "Location                   object\n",
       "Activity                   object\n",
       "Name                       object\n",
       "Sex                        object\n",
       "Age                        object\n",
       "Injury                     object\n",
       "Fatal (Y/N)                object\n",
       "Time                       object\n",
       "Species                    object\n",
       "Investigator or Source     object\n",
       "pdf                        object\n",
       "href formula               object\n",
       "href                       object\n",
       "Case Number.1              object\n",
       "Case Number.2              object\n",
       "original order            float64\n",
       "Unnamed: 22                object\n",
       "Unnamed: 23                object\n",
       "dtype: object"
      ]
     },
     "execution_count": 5,
     "metadata": {},
     "output_type": "execute_result"
    }
   ],
   "source": [
    "# Ver que tipo de datos hay\n",
    "tiburon.dtypes"
   ]
  },
  {
   "cell_type": "code",
   "execution_count": 6,
   "id": "779355f3",
   "metadata": {},
   "outputs": [
    {
     "data": {
      "text/html": [
       "<div>\n",
       "<style scoped>\n",
       "    .dataframe tbody tr th:only-of-type {\n",
       "        vertical-align: middle;\n",
       "    }\n",
       "\n",
       "    .dataframe tbody tr th {\n",
       "        vertical-align: top;\n",
       "    }\n",
       "\n",
       "    .dataframe thead th {\n",
       "        text-align: right;\n",
       "    }\n",
       "</style>\n",
       "<table border=\"1\" class=\"dataframe\">\n",
       "  <thead>\n",
       "    <tr style=\"text-align: right;\">\n",
       "      <th></th>\n",
       "      <th>Year</th>\n",
       "      <th>original order</th>\n",
       "    </tr>\n",
       "  </thead>\n",
       "  <tbody>\n",
       "    <tr>\n",
       "      <th>count</th>\n",
       "      <td>6300.000000</td>\n",
       "      <td>6309.000000</td>\n",
       "    </tr>\n",
       "    <tr>\n",
       "      <th>mean</th>\n",
       "      <td>1927.272381</td>\n",
       "      <td>3155.999683</td>\n",
       "    </tr>\n",
       "    <tr>\n",
       "      <th>std</th>\n",
       "      <td>281.116308</td>\n",
       "      <td>1821.396206</td>\n",
       "    </tr>\n",
       "    <tr>\n",
       "      <th>min</th>\n",
       "      <td>0.000000</td>\n",
       "      <td>2.000000</td>\n",
       "    </tr>\n",
       "    <tr>\n",
       "      <th>25%</th>\n",
       "      <td>1942.000000</td>\n",
       "      <td>1579.000000</td>\n",
       "    </tr>\n",
       "    <tr>\n",
       "      <th>50%</th>\n",
       "      <td>1977.000000</td>\n",
       "      <td>3156.000000</td>\n",
       "    </tr>\n",
       "    <tr>\n",
       "      <th>75%</th>\n",
       "      <td>2005.000000</td>\n",
       "      <td>4733.000000</td>\n",
       "    </tr>\n",
       "    <tr>\n",
       "      <th>max</th>\n",
       "      <td>2018.000000</td>\n",
       "      <td>6310.000000</td>\n",
       "    </tr>\n",
       "  </tbody>\n",
       "</table>\n",
       "</div>"
      ],
      "text/plain": [
       "              Year  original order\n",
       "count  6300.000000     6309.000000\n",
       "mean   1927.272381     3155.999683\n",
       "std     281.116308     1821.396206\n",
       "min       0.000000        2.000000\n",
       "25%    1942.000000     1579.000000\n",
       "50%    1977.000000     3156.000000\n",
       "75%    2005.000000     4733.000000\n",
       "max    2018.000000     6310.000000"
      ]
     },
     "execution_count": 6,
     "metadata": {},
     "output_type": "execute_result"
    }
   ],
   "source": [
    "tiburon.describe()\n",
    "# Obtener datos estadísticos rápidos de lo que hay dentro."
   ]
  },
  {
   "cell_type": "code",
   "execution_count": 7,
   "id": "3b915cb0",
   "metadata": {},
   "outputs": [
    {
     "data": {
      "text/plain": [
       "Case Number               17021\n",
       "Date                      19421\n",
       "Year                      19423\n",
       "Type                      19425\n",
       "Country                   19471\n",
       "Area                      19876\n",
       "Location                  19961\n",
       "Activity                  19965\n",
       "Name                      19631\n",
       "Sex                       19986\n",
       "Age                       22252\n",
       "Injury                    19449\n",
       "Fatal (Y/N)               19960\n",
       "Time                      22775\n",
       "Species                   22259\n",
       "Investigator or Source    19438\n",
       "pdf                       19421\n",
       "href formula              19422\n",
       "href                      19421\n",
       "Case Number.1             19421\n",
       "Case Number.2             19421\n",
       "original order            19414\n",
       "Unnamed: 22               25722\n",
       "Unnamed: 23               25721\n",
       "dtype: int64"
      ]
     },
     "execution_count": 7,
     "metadata": {},
     "output_type": "execute_result"
    }
   ],
   "source": [
    "# ¿Cuántos nulos existen en cada columna?\n",
    "tiburon.isnull().sum(axis = 0)"
   ]
  },
  {
   "cell_type": "code",
   "execution_count": 8,
   "id": "6da47590",
   "metadata": {},
   "outputs": [
    {
     "data": {
      "text/plain": [
       "'\\nDespués de revisar todos los datos de cada columna del dataframe, hay algunas columnas que podemos eliminar\\nya que no nos van a dar información relevante en el estudio de los ataques de tiburones. Estas son; \\n\"Name\", \"Investigator or Source\", \"pdf\", \"href formula\", \"href\", \"Case Number.1\", \"Case Number.2\", \\n\"original order\", \"Unnamed: 22\", \"Unnamed: 23\".\\n'"
      ]
     },
     "execution_count": 8,
     "metadata": {},
     "output_type": "execute_result"
    }
   ],
   "source": [
    "'''\n",
    "Después de revisar todos los datos de cada columna del dataframe, hay algunas columnas que podemos eliminar\n",
    "ya que no nos van a dar información relevante en el estudio de los ataques de tiburones. Estas son; \n",
    "\"Name\", \"Investigator or Source\", \"pdf\", \"href formula\", \"href\", \"Case Number.1\", \"Case Number.2\", \n",
    "\"original order\", \"Unnamed: 22\", \"Unnamed: 23\".\n",
    "'''"
   ]
  },
  {
   "cell_type": "code",
   "execution_count": 9,
   "id": "ff033169",
   "metadata": {},
   "outputs": [
    {
     "data": {
      "text/html": [
       "<div>\n",
       "<style scoped>\n",
       "    .dataframe tbody tr th:only-of-type {\n",
       "        vertical-align: middle;\n",
       "    }\n",
       "\n",
       "    .dataframe tbody tr th {\n",
       "        vertical-align: top;\n",
       "    }\n",
       "\n",
       "    .dataframe thead th {\n",
       "        text-align: right;\n",
       "    }\n",
       "</style>\n",
       "<table border=\"1\" class=\"dataframe\">\n",
       "  <thead>\n",
       "    <tr style=\"text-align: right;\">\n",
       "      <th></th>\n",
       "      <th>Case Number</th>\n",
       "      <th>Date</th>\n",
       "      <th>Year</th>\n",
       "      <th>Type</th>\n",
       "      <th>Country</th>\n",
       "      <th>Area</th>\n",
       "      <th>Location</th>\n",
       "      <th>Activity</th>\n",
       "      <th>Sex</th>\n",
       "      <th>Age</th>\n",
       "      <th>Injury</th>\n",
       "      <th>Fatal (Y/N)</th>\n",
       "      <th>Time</th>\n",
       "      <th>Species</th>\n",
       "    </tr>\n",
       "  </thead>\n",
       "  <tbody>\n",
       "    <tr>\n",
       "      <th>6995</th>\n",
       "      <td>0</td>\n",
       "      <td>NaN</td>\n",
       "      <td>NaN</td>\n",
       "      <td>NaN</td>\n",
       "      <td>NaN</td>\n",
       "      <td>NaN</td>\n",
       "      <td>NaN</td>\n",
       "      <td>NaN</td>\n",
       "      <td>NaN</td>\n",
       "      <td>NaN</td>\n",
       "      <td>NaN</td>\n",
       "      <td>NaN</td>\n",
       "      <td>NaN</td>\n",
       "      <td>NaN</td>\n",
       "    </tr>\n",
       "    <tr>\n",
       "      <th>6844</th>\n",
       "      <td>0</td>\n",
       "      <td>NaN</td>\n",
       "      <td>NaN</td>\n",
       "      <td>NaN</td>\n",
       "      <td>NaN</td>\n",
       "      <td>NaN</td>\n",
       "      <td>NaN</td>\n",
       "      <td>NaN</td>\n",
       "      <td>NaN</td>\n",
       "      <td>NaN</td>\n",
       "      <td>NaN</td>\n",
       "      <td>NaN</td>\n",
       "      <td>NaN</td>\n",
       "      <td>NaN</td>\n",
       "    </tr>\n",
       "    <tr>\n",
       "      <th>14471</th>\n",
       "      <td>NaN</td>\n",
       "      <td>NaN</td>\n",
       "      <td>NaN</td>\n",
       "      <td>NaN</td>\n",
       "      <td>NaN</td>\n",
       "      <td>NaN</td>\n",
       "      <td>NaN</td>\n",
       "      <td>NaN</td>\n",
       "      <td>NaN</td>\n",
       "      <td>NaN</td>\n",
       "      <td>NaN</td>\n",
       "      <td>NaN</td>\n",
       "      <td>NaN</td>\n",
       "      <td>NaN</td>\n",
       "    </tr>\n",
       "    <tr>\n",
       "      <th>5857</th>\n",
       "      <td>1877.03.16</td>\n",
       "      <td>16-Mar-1877</td>\n",
       "      <td>1877.0</td>\n",
       "      <td>Unprovoked</td>\n",
       "      <td>ITALY</td>\n",
       "      <td>Strait of Messina</td>\n",
       "      <td>Off Calabria</td>\n",
       "      <td>Paddling</td>\n",
       "      <td>M</td>\n",
       "      <td>NaN</td>\n",
       "      <td>3 ribs broken by shark's tail</td>\n",
       "      <td>N</td>\n",
       "      <td>NaN</td>\n",
       "      <td>NaN</td>\n",
       "    </tr>\n",
       "    <tr>\n",
       "      <th>25664</th>\n",
       "      <td>NaN</td>\n",
       "      <td>NaN</td>\n",
       "      <td>NaN</td>\n",
       "      <td>NaN</td>\n",
       "      <td>NaN</td>\n",
       "      <td>NaN</td>\n",
       "      <td>NaN</td>\n",
       "      <td>NaN</td>\n",
       "      <td>NaN</td>\n",
       "      <td>NaN</td>\n",
       "      <td>NaN</td>\n",
       "      <td>NaN</td>\n",
       "      <td>NaN</td>\n",
       "      <td>NaN</td>\n",
       "    </tr>\n",
       "  </tbody>\n",
       "</table>\n",
       "</div>"
      ],
      "text/plain": [
       "      Case Number         Date    Year        Type Country               Area  \\\n",
       "6995            0          NaN     NaN         NaN     NaN                NaN   \n",
       "6844            0          NaN     NaN         NaN     NaN                NaN   \n",
       "14471         NaN          NaN     NaN         NaN     NaN                NaN   \n",
       "5857   1877.03.16  16-Mar-1877  1877.0  Unprovoked   ITALY  Strait of Messina   \n",
       "25664         NaN          NaN     NaN         NaN     NaN                NaN   \n",
       "\n",
       "           Location  Activity Sex   Age                         Injury  \\\n",
       "6995            NaN       NaN  NaN  NaN                            NaN   \n",
       "6844            NaN       NaN  NaN  NaN                            NaN   \n",
       "14471           NaN       NaN  NaN  NaN                            NaN   \n",
       "5857   Off Calabria  Paddling    M  NaN  3 ribs broken by shark's tail   \n",
       "25664           NaN       NaN  NaN  NaN                            NaN   \n",
       "\n",
       "      Fatal (Y/N) Time Species   \n",
       "6995          NaN  NaN      NaN  \n",
       "6844          NaN  NaN      NaN  \n",
       "14471         NaN  NaN      NaN  \n",
       "5857            N  NaN      NaN  \n",
       "25664         NaN  NaN      NaN  "
      ]
     },
     "execution_count": 9,
     "metadata": {},
     "output_type": "execute_result"
    }
   ],
   "source": [
    "# Se eliminan las columnas; \n",
    "tiburon2 = tiburon.drop([\"Name\", \"Investigator or Source\", \"pdf\", \"href formula\", \"href\", \"Case Number.1\", \"Case Number.2\", \n",
    "\"original order\", \"Unnamed: 22\", \"Unnamed: 23\"], axis=1)\n",
    "tiburon2.sample(5)"
   ]
  },
  {
   "cell_type": "code",
   "execution_count": 10,
   "id": "b024f543",
   "metadata": {},
   "outputs": [
    {
     "data": {
      "text/html": [
       "<div>\n",
       "<style scoped>\n",
       "    .dataframe tbody tr th:only-of-type {\n",
       "        vertical-align: middle;\n",
       "    }\n",
       "\n",
       "    .dataframe tbody tr th {\n",
       "        vertical-align: top;\n",
       "    }\n",
       "\n",
       "    .dataframe thead th {\n",
       "        text-align: right;\n",
       "    }\n",
       "</style>\n",
       "<table border=\"1\" class=\"dataframe\">\n",
       "  <thead>\n",
       "    <tr style=\"text-align: right;\">\n",
       "      <th></th>\n",
       "      <th>Case Number</th>\n",
       "      <th>Date</th>\n",
       "      <th>Year</th>\n",
       "      <th>Type</th>\n",
       "      <th>Country</th>\n",
       "      <th>Area</th>\n",
       "      <th>Location</th>\n",
       "      <th>Activity</th>\n",
       "      <th>Sex</th>\n",
       "      <th>Age</th>\n",
       "      <th>Injury</th>\n",
       "      <th>Fatal (Y/N)</th>\n",
       "      <th>Time</th>\n",
       "      <th>Species</th>\n",
       "    </tr>\n",
       "  </thead>\n",
       "  <tbody>\n",
       "    <tr>\n",
       "      <th>21404</th>\n",
       "      <td>NaN</td>\n",
       "      <td>NaN</td>\n",
       "      <td>NaN</td>\n",
       "      <td>NaN</td>\n",
       "      <td>NaN</td>\n",
       "      <td>NaN</td>\n",
       "      <td>NaN</td>\n",
       "      <td>NaN</td>\n",
       "      <td>NaN</td>\n",
       "      <td>NaN</td>\n",
       "      <td>NaN</td>\n",
       "      <td>NaN</td>\n",
       "      <td>NaN</td>\n",
       "      <td>NaN</td>\n",
       "    </tr>\n",
       "    <tr>\n",
       "      <th>16811</th>\n",
       "      <td>NaN</td>\n",
       "      <td>NaN</td>\n",
       "      <td>NaN</td>\n",
       "      <td>NaN</td>\n",
       "      <td>NaN</td>\n",
       "      <td>NaN</td>\n",
       "      <td>NaN</td>\n",
       "      <td>NaN</td>\n",
       "      <td>NaN</td>\n",
       "      <td>NaN</td>\n",
       "      <td>NaN</td>\n",
       "      <td>NaN</td>\n",
       "      <td>NaN</td>\n",
       "      <td>NaN</td>\n",
       "    </tr>\n",
       "    <tr>\n",
       "      <th>17572</th>\n",
       "      <td>NaN</td>\n",
       "      <td>NaN</td>\n",
       "      <td>NaN</td>\n",
       "      <td>NaN</td>\n",
       "      <td>NaN</td>\n",
       "      <td>NaN</td>\n",
       "      <td>NaN</td>\n",
       "      <td>NaN</td>\n",
       "      <td>NaN</td>\n",
       "      <td>NaN</td>\n",
       "      <td>NaN</td>\n",
       "      <td>NaN</td>\n",
       "      <td>NaN</td>\n",
       "      <td>NaN</td>\n",
       "    </tr>\n",
       "    <tr>\n",
       "      <th>19653</th>\n",
       "      <td>NaN</td>\n",
       "      <td>NaN</td>\n",
       "      <td>NaN</td>\n",
       "      <td>NaN</td>\n",
       "      <td>NaN</td>\n",
       "      <td>NaN</td>\n",
       "      <td>NaN</td>\n",
       "      <td>NaN</td>\n",
       "      <td>NaN</td>\n",
       "      <td>NaN</td>\n",
       "      <td>NaN</td>\n",
       "      <td>NaN</td>\n",
       "      <td>NaN</td>\n",
       "      <td>NaN</td>\n",
       "    </tr>\n",
       "    <tr>\n",
       "      <th>23416</th>\n",
       "      <td>NaN</td>\n",
       "      <td>NaN</td>\n",
       "      <td>NaN</td>\n",
       "      <td>NaN</td>\n",
       "      <td>NaN</td>\n",
       "      <td>NaN</td>\n",
       "      <td>NaN</td>\n",
       "      <td>NaN</td>\n",
       "      <td>NaN</td>\n",
       "      <td>NaN</td>\n",
       "      <td>NaN</td>\n",
       "      <td>NaN</td>\n",
       "      <td>NaN</td>\n",
       "      <td>NaN</td>\n",
       "    </tr>\n",
       "  </tbody>\n",
       "</table>\n",
       "</div>"
      ],
      "text/plain": [
       "      Case Number Date  Year Type Country Area Location Activity Sex   Age  \\\n",
       "21404         NaN  NaN   NaN  NaN     NaN  NaN      NaN      NaN  NaN  NaN   \n",
       "16811         NaN  NaN   NaN  NaN     NaN  NaN      NaN      NaN  NaN  NaN   \n",
       "17572         NaN  NaN   NaN  NaN     NaN  NaN      NaN      NaN  NaN  NaN   \n",
       "19653         NaN  NaN   NaN  NaN     NaN  NaN      NaN      NaN  NaN  NaN   \n",
       "23416         NaN  NaN   NaN  NaN     NaN  NaN      NaN      NaN  NaN  NaN   \n",
       "\n",
       "      Injury Fatal (Y/N) Time Species   \n",
       "21404    NaN         NaN  NaN      NaN  \n",
       "16811    NaN         NaN  NaN      NaN  \n",
       "17572    NaN         NaN  NaN      NaN  \n",
       "19653    NaN         NaN  NaN      NaN  \n",
       "23416    NaN         NaN  NaN      NaN  "
      ]
     },
     "execution_count": 10,
     "metadata": {},
     "output_type": "execute_result"
    }
   ],
   "source": [
    "# Revisamos aquellas filas que tengan todos los valores NaN (no proporcionan información) y se eliminan:\n",
    "(tiburon2[tiburon2.duplicated()]).sample(5)"
   ]
  },
  {
   "cell_type": "code",
   "execution_count": 11,
   "id": "cdf5139d",
   "metadata": {},
   "outputs": [
    {
     "data": {
      "text/plain": [
       "19418"
      ]
     },
     "execution_count": 11,
     "metadata": {},
     "output_type": "execute_result"
    }
   ],
   "source": [
    "# El recuento de todas las filas duplicadas es:\n",
    "tiburon2.duplicated().sum()"
   ]
  },
  {
   "cell_type": "code",
   "execution_count": 12,
   "id": "f6bae0c7",
   "metadata": {},
   "outputs": [
    {
     "data": {
      "text/html": [
       "<div>\n",
       "<style scoped>\n",
       "    .dataframe tbody tr th:only-of-type {\n",
       "        vertical-align: middle;\n",
       "    }\n",
       "\n",
       "    .dataframe tbody tr th {\n",
       "        vertical-align: top;\n",
       "    }\n",
       "\n",
       "    .dataframe thead th {\n",
       "        text-align: right;\n",
       "    }\n",
       "</style>\n",
       "<table border=\"1\" class=\"dataframe\">\n",
       "  <thead>\n",
       "    <tr style=\"text-align: right;\">\n",
       "      <th></th>\n",
       "      <th>Case Number</th>\n",
       "      <th>Date</th>\n",
       "      <th>Year</th>\n",
       "      <th>Type</th>\n",
       "      <th>Country</th>\n",
       "      <th>Area</th>\n",
       "      <th>Location</th>\n",
       "      <th>Activity</th>\n",
       "      <th>Sex</th>\n",
       "      <th>Age</th>\n",
       "      <th>Injury</th>\n",
       "      <th>Fatal (Y/N)</th>\n",
       "      <th>Time</th>\n",
       "      <th>Species</th>\n",
       "    </tr>\n",
       "  </thead>\n",
       "  <tbody>\n",
       "    <tr>\n",
       "      <th>2464</th>\n",
       "      <td>1993.11.12</td>\n",
       "      <td>12-Nov-1993</td>\n",
       "      <td>1993.0</td>\n",
       "      <td>Unprovoked</td>\n",
       "      <td>USA</td>\n",
       "      <td>Hawaii</td>\n",
       "      <td>Horners, Wailua, Kaua'i</td>\n",
       "      <td>Surfing, paddling shorewards</td>\n",
       "      <td>M</td>\n",
       "      <td>NaN</td>\n",
       "      <td>Left leg severely bitten</td>\n",
       "      <td>N</td>\n",
       "      <td>10h55</td>\n",
       "      <td>NaN</td>\n",
       "    </tr>\n",
       "    <tr>\n",
       "      <th>4879</th>\n",
       "      <td>1936.06.06</td>\n",
       "      <td>06-Jun-1936</td>\n",
       "      <td>1936.0</td>\n",
       "      <td>Unprovoked</td>\n",
       "      <td>USA</td>\n",
       "      <td>Florida</td>\n",
       "      <td>Boca Ciega Bay, Pinellas County</td>\n",
       "      <td>Swimming</td>\n",
       "      <td>M</td>\n",
       "      <td>NaN</td>\n",
       "      <td>FATAL</td>\n",
       "      <td>Y</td>\n",
       "      <td>NaN</td>\n",
       "      <td>NaN</td>\n",
       "    </tr>\n",
       "    <tr>\n",
       "      <th>6854</th>\n",
       "      <td>0</td>\n",
       "      <td>NaN</td>\n",
       "      <td>NaN</td>\n",
       "      <td>NaN</td>\n",
       "      <td>NaN</td>\n",
       "      <td>NaN</td>\n",
       "      <td>NaN</td>\n",
       "      <td>NaN</td>\n",
       "      <td>NaN</td>\n",
       "      <td>NaN</td>\n",
       "      <td>NaN</td>\n",
       "      <td>NaN</td>\n",
       "      <td>NaN</td>\n",
       "      <td>NaN</td>\n",
       "    </tr>\n",
       "    <tr>\n",
       "      <th>2175</th>\n",
       "      <td>1998.08.01.a</td>\n",
       "      <td>01-Aug-1998</td>\n",
       "      <td>1998.0</td>\n",
       "      <td>Unprovoked</td>\n",
       "      <td>SOUTH AFRICA</td>\n",
       "      <td>Western Cape Province</td>\n",
       "      <td>Pringle Bay</td>\n",
       "      <td>Spearfishing</td>\n",
       "      <td>M</td>\n",
       "      <td>24</td>\n",
       "      <td>Leg bitten</td>\n",
       "      <td>N</td>\n",
       "      <td>13h00</td>\n",
       "      <td>White shark, 4.9 m [16']</td>\n",
       "    </tr>\n",
       "    <tr>\n",
       "      <th>3747</th>\n",
       "      <td>1963.07.00</td>\n",
       "      <td>Jul-1963</td>\n",
       "      <td>1963.0</td>\n",
       "      <td>Unprovoked</td>\n",
       "      <td>PANAMA</td>\n",
       "      <td>San Blas coast</td>\n",
       "      <td>4 miles from Tuwala, near Mulatuppu</td>\n",
       "      <td>Seining for bait, standing in chest-deep water</td>\n",
       "      <td>M</td>\n",
       "      <td>NaN</td>\n",
       "      <td>FATAL, foot nearly severed</td>\n",
       "      <td>Y</td>\n",
       "      <td>NaN</td>\n",
       "      <td>NaN</td>\n",
       "    </tr>\n",
       "  </tbody>\n",
       "</table>\n",
       "</div>"
      ],
      "text/plain": [
       "       Case Number         Date    Year        Type       Country  \\\n",
       "2464    1993.11.12  12-Nov-1993  1993.0  Unprovoked           USA   \n",
       "4879    1936.06.06  06-Jun-1936  1936.0  Unprovoked           USA   \n",
       "6854             0          NaN     NaN         NaN           NaN   \n",
       "2175  1998.08.01.a  01-Aug-1998  1998.0  Unprovoked  SOUTH AFRICA   \n",
       "3747    1963.07.00     Jul-1963  1963.0  Unprovoked        PANAMA   \n",
       "\n",
       "                       Area                             Location  \\\n",
       "2464                 Hawaii              Horners, Wailua, Kaua'i   \n",
       "4879                Florida      Boca Ciega Bay, Pinellas County   \n",
       "6854                    NaN                                  NaN   \n",
       "2175  Western Cape Province                          Pringle Bay   \n",
       "3747         San Blas coast  4 miles from Tuwala, near Mulatuppu   \n",
       "\n",
       "                                            Activity Sex   Age  \\\n",
       "2464                    Surfing, paddling shorewards    M  NaN   \n",
       "4879                                        Swimming    M  NaN   \n",
       "6854                                             NaN  NaN  NaN   \n",
       "2175                                    Spearfishing    M   24   \n",
       "3747  Seining for bait, standing in chest-deep water    M  NaN   \n",
       "\n",
       "                           Injury Fatal (Y/N)   Time                  Species   \n",
       "2464     Left leg severely bitten           N  10h55                       NaN  \n",
       "4879                        FATAL           Y    NaN                       NaN  \n",
       "6854                          NaN         NaN    NaN                       NaN  \n",
       "2175                   Leg bitten           N  13h00  White shark, 4.9 m [16']  \n",
       "3747  FATAL, foot nearly severed            Y    NaN                       NaN  "
      ]
     },
     "execution_count": 12,
     "metadata": {},
     "output_type": "execute_result"
    }
   ],
   "source": [
    "# Eliminamos todas las filas que tengan NaN en todas las columnas\n",
    "tiburon3 = tiburon2.dropna(how='all')\n",
    "tiburon3.sample(5)"
   ]
  },
  {
   "cell_type": "code",
   "execution_count": 13,
   "id": "239f9fa0",
   "metadata": {},
   "outputs": [
    {
     "data": {
      "text/html": [
       "<div>\n",
       "<style scoped>\n",
       "    .dataframe tbody tr th:only-of-type {\n",
       "        vertical-align: middle;\n",
       "    }\n",
       "\n",
       "    .dataframe tbody tr th {\n",
       "        vertical-align: top;\n",
       "    }\n",
       "\n",
       "    .dataframe thead th {\n",
       "        text-align: right;\n",
       "    }\n",
       "</style>\n",
       "<table border=\"1\" class=\"dataframe\">\n",
       "  <thead>\n",
       "    <tr style=\"text-align: right;\">\n",
       "      <th></th>\n",
       "      <th>Case Number</th>\n",
       "      <th>Date</th>\n",
       "      <th>Year</th>\n",
       "      <th>Type</th>\n",
       "      <th>Country</th>\n",
       "      <th>Area</th>\n",
       "      <th>Location</th>\n",
       "      <th>Activity</th>\n",
       "      <th>Sex</th>\n",
       "      <th>Age</th>\n",
       "      <th>Injury</th>\n",
       "      <th>Fatal (Y/N)</th>\n",
       "      <th>Time</th>\n",
       "      <th>Species</th>\n",
       "    </tr>\n",
       "  </thead>\n",
       "  <tbody>\n",
       "    <tr>\n",
       "      <th>7426</th>\n",
       "      <td>0</td>\n",
       "      <td>NaN</td>\n",
       "      <td>NaN</td>\n",
       "      <td>NaN</td>\n",
       "      <td>NaN</td>\n",
       "      <td>NaN</td>\n",
       "      <td>NaN</td>\n",
       "      <td>NaN</td>\n",
       "      <td>NaN</td>\n",
       "      <td>NaN</td>\n",
       "      <td>NaN</td>\n",
       "      <td>NaN</td>\n",
       "      <td>NaN</td>\n",
       "      <td>NaN</td>\n",
       "    </tr>\n",
       "    <tr>\n",
       "      <th>8231</th>\n",
       "      <td>0</td>\n",
       "      <td>NaN</td>\n",
       "      <td>NaN</td>\n",
       "      <td>NaN</td>\n",
       "      <td>NaN</td>\n",
       "      <td>NaN</td>\n",
       "      <td>NaN</td>\n",
       "      <td>NaN</td>\n",
       "      <td>NaN</td>\n",
       "      <td>NaN</td>\n",
       "      <td>NaN</td>\n",
       "      <td>NaN</td>\n",
       "      <td>NaN</td>\n",
       "      <td>NaN</td>\n",
       "    </tr>\n",
       "    <tr>\n",
       "      <th>7483</th>\n",
       "      <td>0</td>\n",
       "      <td>NaN</td>\n",
       "      <td>NaN</td>\n",
       "      <td>NaN</td>\n",
       "      <td>NaN</td>\n",
       "      <td>NaN</td>\n",
       "      <td>NaN</td>\n",
       "      <td>NaN</td>\n",
       "      <td>NaN</td>\n",
       "      <td>NaN</td>\n",
       "      <td>NaN</td>\n",
       "      <td>NaN</td>\n",
       "      <td>NaN</td>\n",
       "      <td>NaN</td>\n",
       "    </tr>\n",
       "    <tr>\n",
       "      <th>7160</th>\n",
       "      <td>0</td>\n",
       "      <td>NaN</td>\n",
       "      <td>NaN</td>\n",
       "      <td>NaN</td>\n",
       "      <td>NaN</td>\n",
       "      <td>NaN</td>\n",
       "      <td>NaN</td>\n",
       "      <td>NaN</td>\n",
       "      <td>NaN</td>\n",
       "      <td>NaN</td>\n",
       "      <td>NaN</td>\n",
       "      <td>NaN</td>\n",
       "      <td>NaN</td>\n",
       "      <td>NaN</td>\n",
       "    </tr>\n",
       "    <tr>\n",
       "      <th>8385</th>\n",
       "      <td>0</td>\n",
       "      <td>NaN</td>\n",
       "      <td>NaN</td>\n",
       "      <td>NaN</td>\n",
       "      <td>NaN</td>\n",
       "      <td>NaN</td>\n",
       "      <td>NaN</td>\n",
       "      <td>NaN</td>\n",
       "      <td>NaN</td>\n",
       "      <td>NaN</td>\n",
       "      <td>NaN</td>\n",
       "      <td>NaN</td>\n",
       "      <td>NaN</td>\n",
       "      <td>NaN</td>\n",
       "    </tr>\n",
       "  </tbody>\n",
       "</table>\n",
       "</div>"
      ],
      "text/plain": [
       "     Case Number Date  Year Type Country Area Location Activity Sex   Age  \\\n",
       "7426           0  NaN   NaN  NaN     NaN  NaN      NaN      NaN  NaN  NaN   \n",
       "8231           0  NaN   NaN  NaN     NaN  NaN      NaN      NaN  NaN  NaN   \n",
       "7483           0  NaN   NaN  NaN     NaN  NaN      NaN      NaN  NaN  NaN   \n",
       "7160           0  NaN   NaN  NaN     NaN  NaN      NaN      NaN  NaN  NaN   \n",
       "8385           0  NaN   NaN  NaN     NaN  NaN      NaN      NaN  NaN  NaN   \n",
       "\n",
       "     Injury Fatal (Y/N) Time Species   \n",
       "7426    NaN         NaN  NaN      NaN  \n",
       "8231    NaN         NaN  NaN      NaN  \n",
       "7483    NaN         NaN  NaN      NaN  \n",
       "7160    NaN         NaN  NaN      NaN  \n",
       "8385    NaN         NaN  NaN      NaN  "
      ]
     },
     "execution_count": 13,
     "metadata": {},
     "output_type": "execute_result"
    }
   ],
   "source": [
    "'''\n",
    "Después de eliminar todas las filas que tienen todo NaN, reviso aquellas filas que puedan estar duplicadas.\n",
    "La información obtenida es que todo son NaN excepto el Case Number que es = 0, por tanto, tampoco es información útil para el \n",
    "estudio y se pueden eliminar.\n",
    "'''\n",
    "(tiburon3[tiburon3.duplicated()]).sample(5)"
   ]
  },
  {
   "cell_type": "code",
   "execution_count": 14,
   "id": "b1f45fa0",
   "metadata": {
    "scrolled": false
   },
   "outputs": [
    {
     "data": {
      "text/html": [
       "<div>\n",
       "<style scoped>\n",
       "    .dataframe tbody tr th:only-of-type {\n",
       "        vertical-align: middle;\n",
       "    }\n",
       "\n",
       "    .dataframe tbody tr th {\n",
       "        vertical-align: top;\n",
       "    }\n",
       "\n",
       "    .dataframe thead th {\n",
       "        text-align: right;\n",
       "    }\n",
       "</style>\n",
       "<table border=\"1\" class=\"dataframe\">\n",
       "  <thead>\n",
       "    <tr style=\"text-align: right;\">\n",
       "      <th></th>\n",
       "      <th>Case Number</th>\n",
       "      <th>Date</th>\n",
       "      <th>Year</th>\n",
       "      <th>Type</th>\n",
       "      <th>Country</th>\n",
       "      <th>Area</th>\n",
       "      <th>Location</th>\n",
       "      <th>Activity</th>\n",
       "      <th>Sex</th>\n",
       "      <th>Age</th>\n",
       "      <th>Injury</th>\n",
       "      <th>Fatal (Y/N)</th>\n",
       "      <th>Time</th>\n",
       "      <th>Species</th>\n",
       "    </tr>\n",
       "  </thead>\n",
       "  <tbody>\n",
       "    <tr>\n",
       "      <th>6299</th>\n",
       "      <td>ND.0003</td>\n",
       "      <td>1900-1905</td>\n",
       "      <td>0.0</td>\n",
       "      <td>Unprovoked</td>\n",
       "      <td>USA</td>\n",
       "      <td>North Carolina</td>\n",
       "      <td>Ocracoke Inlet</td>\n",
       "      <td>Swimming</td>\n",
       "      <td>M</td>\n",
       "      <td>NaN</td>\n",
       "      <td>FATAL</td>\n",
       "      <td>Y</td>\n",
       "      <td>NaN</td>\n",
       "      <td>NaN</td>\n",
       "    </tr>\n",
       "    <tr>\n",
       "      <th>6300</th>\n",
       "      <td>ND.0002</td>\n",
       "      <td>1883-1889</td>\n",
       "      <td>0.0</td>\n",
       "      <td>Unprovoked</td>\n",
       "      <td>PANAMA</td>\n",
       "      <td>NaN</td>\n",
       "      <td>Panama Bay 8ºN, 79ºW</td>\n",
       "      <td>NaN</td>\n",
       "      <td>M</td>\n",
       "      <td>NaN</td>\n",
       "      <td>FATAL</td>\n",
       "      <td>Y</td>\n",
       "      <td>NaN</td>\n",
       "      <td>NaN</td>\n",
       "    </tr>\n",
       "    <tr>\n",
       "      <th>6301</th>\n",
       "      <td>ND.0001</td>\n",
       "      <td>1845-1853</td>\n",
       "      <td>0.0</td>\n",
       "      <td>Unprovoked</td>\n",
       "      <td>CEYLON (SRI LANKA)</td>\n",
       "      <td>Eastern Province</td>\n",
       "      <td>Below the English fort, Trincomalee</td>\n",
       "      <td>Swimming</td>\n",
       "      <td>M</td>\n",
       "      <td>15</td>\n",
       "      <td>FATAL. \"Shark bit him in half, carrying away t...</td>\n",
       "      <td>Y</td>\n",
       "      <td>NaN</td>\n",
       "      <td>NaN</td>\n",
       "    </tr>\n",
       "    <tr>\n",
       "      <th>6302</th>\n",
       "      <td>0</td>\n",
       "      <td>NaN</td>\n",
       "      <td>NaN</td>\n",
       "      <td>NaN</td>\n",
       "      <td>NaN</td>\n",
       "      <td>NaN</td>\n",
       "      <td>NaN</td>\n",
       "      <td>NaN</td>\n",
       "      <td>NaN</td>\n",
       "      <td>NaN</td>\n",
       "      <td>NaN</td>\n",
       "      <td>NaN</td>\n",
       "      <td>NaN</td>\n",
       "      <td>NaN</td>\n",
       "    </tr>\n",
       "    <tr>\n",
       "      <th>25722</th>\n",
       "      <td>xx</td>\n",
       "      <td>NaN</td>\n",
       "      <td>NaN</td>\n",
       "      <td>NaN</td>\n",
       "      <td>NaN</td>\n",
       "      <td>NaN</td>\n",
       "      <td>NaN</td>\n",
       "      <td>NaN</td>\n",
       "      <td>NaN</td>\n",
       "      <td>NaN</td>\n",
       "      <td>NaN</td>\n",
       "      <td>NaN</td>\n",
       "      <td>NaN</td>\n",
       "      <td>NaN</td>\n",
       "    </tr>\n",
       "  </tbody>\n",
       "</table>\n",
       "</div>"
      ],
      "text/plain": [
       "      Case Number       Date  Year        Type             Country  \\\n",
       "6299      ND.0003  1900-1905   0.0  Unprovoked                 USA   \n",
       "6300      ND.0002  1883-1889   0.0  Unprovoked              PANAMA   \n",
       "6301      ND.0001  1845-1853   0.0  Unprovoked  CEYLON (SRI LANKA)   \n",
       "6302            0        NaN   NaN         NaN                 NaN   \n",
       "25722          xx        NaN   NaN         NaN                 NaN   \n",
       "\n",
       "                   Area                             Location  Activity Sex   \\\n",
       "6299     North Carolina                       Ocracoke Inlet  Swimming    M   \n",
       "6300                NaN                 Panama Bay 8ºN, 79ºW       NaN    M   \n",
       "6301   Eastern Province  Below the English fort, Trincomalee  Swimming    M   \n",
       "6302                NaN                                  NaN       NaN  NaN   \n",
       "25722               NaN                                  NaN       NaN  NaN   \n",
       "\n",
       "       Age                                             Injury Fatal (Y/N)  \\\n",
       "6299   NaN                                              FATAL           Y   \n",
       "6300   NaN                                              FATAL           Y   \n",
       "6301    15  FATAL. \"Shark bit him in half, carrying away t...           Y   \n",
       "6302   NaN                                                NaN         NaN   \n",
       "25722  NaN                                                NaN         NaN   \n",
       "\n",
       "      Time Species   \n",
       "6299   NaN      NaN  \n",
       "6300   NaN      NaN  \n",
       "6301   NaN      NaN  \n",
       "6302   NaN      NaN  \n",
       "25722  NaN      NaN  "
      ]
     },
     "execution_count": 14,
     "metadata": {},
     "output_type": "execute_result"
    }
   ],
   "source": [
    "tiburon4 = tiburon3.drop_duplicates()\n",
    "tiburon4.tail(5)"
   ]
  },
  {
   "cell_type": "code",
   "execution_count": 15,
   "id": "1839ad44",
   "metadata": {},
   "outputs": [
    {
     "data": {
      "text/html": [
       "<div>\n",
       "<style scoped>\n",
       "    .dataframe tbody tr th:only-of-type {\n",
       "        vertical-align: middle;\n",
       "    }\n",
       "\n",
       "    .dataframe tbody tr th {\n",
       "        vertical-align: top;\n",
       "    }\n",
       "\n",
       "    .dataframe thead th {\n",
       "        text-align: right;\n",
       "    }\n",
       "</style>\n",
       "<table border=\"1\" class=\"dataframe\">\n",
       "  <thead>\n",
       "    <tr style=\"text-align: right;\">\n",
       "      <th></th>\n",
       "      <th>Case Number</th>\n",
       "      <th>Date</th>\n",
       "      <th>Year</th>\n",
       "      <th>Type</th>\n",
       "      <th>Country</th>\n",
       "      <th>Area</th>\n",
       "      <th>Location</th>\n",
       "      <th>Activity</th>\n",
       "      <th>Sex</th>\n",
       "      <th>Age</th>\n",
       "      <th>Injury</th>\n",
       "      <th>Fatal (Y/N)</th>\n",
       "      <th>Time</th>\n",
       "      <th>Species</th>\n",
       "    </tr>\n",
       "  </thead>\n",
       "  <tbody>\n",
       "    <tr>\n",
       "      <th>6299</th>\n",
       "      <td>ND.0003</td>\n",
       "      <td>1900-1905</td>\n",
       "      <td>0.0</td>\n",
       "      <td>Unprovoked</td>\n",
       "      <td>USA</td>\n",
       "      <td>North Carolina</td>\n",
       "      <td>Ocracoke Inlet</td>\n",
       "      <td>Swimming</td>\n",
       "      <td>M</td>\n",
       "      <td>NaN</td>\n",
       "      <td>FATAL</td>\n",
       "      <td>Y</td>\n",
       "      <td>NaN</td>\n",
       "      <td>NaN</td>\n",
       "    </tr>\n",
       "    <tr>\n",
       "      <th>6300</th>\n",
       "      <td>ND.0002</td>\n",
       "      <td>1883-1889</td>\n",
       "      <td>0.0</td>\n",
       "      <td>Unprovoked</td>\n",
       "      <td>PANAMA</td>\n",
       "      <td>NaN</td>\n",
       "      <td>Panama Bay 8ºN, 79ºW</td>\n",
       "      <td>NaN</td>\n",
       "      <td>M</td>\n",
       "      <td>NaN</td>\n",
       "      <td>FATAL</td>\n",
       "      <td>Y</td>\n",
       "      <td>NaN</td>\n",
       "      <td>NaN</td>\n",
       "    </tr>\n",
       "    <tr>\n",
       "      <th>6301</th>\n",
       "      <td>ND.0001</td>\n",
       "      <td>1845-1853</td>\n",
       "      <td>0.0</td>\n",
       "      <td>Unprovoked</td>\n",
       "      <td>CEYLON (SRI LANKA)</td>\n",
       "      <td>Eastern Province</td>\n",
       "      <td>Below the English fort, Trincomalee</td>\n",
       "      <td>Swimming</td>\n",
       "      <td>M</td>\n",
       "      <td>15</td>\n",
       "      <td>FATAL. \"Shark bit him in half, carrying away t...</td>\n",
       "      <td>Y</td>\n",
       "      <td>NaN</td>\n",
       "      <td>NaN</td>\n",
       "    </tr>\n",
       "  </tbody>\n",
       "</table>\n",
       "</div>"
      ],
      "text/plain": [
       "     Case Number       Date  Year        Type             Country  \\\n",
       "6299     ND.0003  1900-1905   0.0  Unprovoked                 USA   \n",
       "6300     ND.0002  1883-1889   0.0  Unprovoked              PANAMA   \n",
       "6301     ND.0001  1845-1853   0.0  Unprovoked  CEYLON (SRI LANKA)   \n",
       "\n",
       "                  Area                             Location  Activity Sex   \\\n",
       "6299    North Carolina                       Ocracoke Inlet  Swimming    M   \n",
       "6300               NaN                 Panama Bay 8ºN, 79ºW       NaN    M   \n",
       "6301  Eastern Province  Below the English fort, Trincomalee  Swimming    M   \n",
       "\n",
       "      Age                                             Injury Fatal (Y/N) Time  \\\n",
       "6299  NaN                                              FATAL           Y  NaN   \n",
       "6300  NaN                                              FATAL           Y  NaN   \n",
       "6301   15  FATAL. \"Shark bit him in half, carrying away t...           Y  NaN   \n",
       "\n",
       "     Species   \n",
       "6299      NaN  \n",
       "6300      NaN  \n",
       "6301      NaN  "
      ]
     },
     "execution_count": 15,
     "metadata": {},
     "output_type": "execute_result"
    }
   ],
   "source": [
    "# Se eliminan las filas en las que todo es NaN y el 'Case Number' es igual a 0 y a xx (son las dos últimas filas)\n",
    "tiburon5 = tiburon4.drop([6302, 25722], axis = 0)\n",
    "tiburon5.tail(3)"
   ]
  },
  {
   "cell_type": "code",
   "execution_count": 16,
   "id": "674b80f1",
   "metadata": {
    "scrolled": false
   },
   "outputs": [
    {
     "data": {
      "text/html": [
       "<div>\n",
       "<style scoped>\n",
       "    .dataframe tbody tr th:only-of-type {\n",
       "        vertical-align: middle;\n",
       "    }\n",
       "\n",
       "    .dataframe tbody tr th {\n",
       "        vertical-align: top;\n",
       "    }\n",
       "\n",
       "    .dataframe thead th {\n",
       "        text-align: right;\n",
       "    }\n",
       "</style>\n",
       "<table border=\"1\" class=\"dataframe\">\n",
       "  <thead>\n",
       "    <tr style=\"text-align: right;\">\n",
       "      <th></th>\n",
       "      <th>Case Number</th>\n",
       "      <th>Date</th>\n",
       "      <th>Year</th>\n",
       "      <th>Type</th>\n",
       "      <th>Country</th>\n",
       "      <th>Area</th>\n",
       "      <th>Location</th>\n",
       "      <th>Activity</th>\n",
       "      <th>Sex</th>\n",
       "      <th>Age</th>\n",
       "      <th>Injury</th>\n",
       "      <th>Fatal (Y/N)</th>\n",
       "      <th>Time</th>\n",
       "      <th>Species</th>\n",
       "    </tr>\n",
       "  </thead>\n",
       "  <tbody>\n",
       "  </tbody>\n",
       "</table>\n",
       "</div>"
      ],
      "text/plain": [
       "Empty DataFrame\n",
       "Columns: [Case Number, Date, Year, Type, Country, Area, Location, Activity, Sex , Age, Injury, Fatal (Y/N), Time, Species ]\n",
       "Index: []"
      ]
     },
     "execution_count": 16,
     "metadata": {},
     "output_type": "execute_result"
    }
   ],
   "source": [
    "# Ya no hay filas con elementos duplicados.\n",
    "(tiburon5[tiburon5.duplicated()])"
   ]
  },
  {
   "cell_type": "code",
   "execution_count": 17,
   "id": "07887cbe",
   "metadata": {
    "scrolled": true
   },
   "outputs": [
    {
     "data": {
      "text/html": [
       "<div>\n",
       "<style scoped>\n",
       "    .dataframe tbody tr th:only-of-type {\n",
       "        vertical-align: middle;\n",
       "    }\n",
       "\n",
       "    .dataframe tbody tr th {\n",
       "        vertical-align: top;\n",
       "    }\n",
       "\n",
       "    .dataframe thead th {\n",
       "        text-align: right;\n",
       "    }\n",
       "</style>\n",
       "<table border=\"1\" class=\"dataframe\">\n",
       "  <thead>\n",
       "    <tr style=\"text-align: right;\">\n",
       "      <th></th>\n",
       "      <th>case number</th>\n",
       "      <th>date</th>\n",
       "      <th>year</th>\n",
       "      <th>type</th>\n",
       "      <th>country</th>\n",
       "      <th>area</th>\n",
       "      <th>location</th>\n",
       "      <th>activity</th>\n",
       "      <th>sex</th>\n",
       "      <th>age</th>\n",
       "      <th>injury</th>\n",
       "      <th>fatal (y/n)</th>\n",
       "      <th>time</th>\n",
       "      <th>species</th>\n",
       "    </tr>\n",
       "  </thead>\n",
       "  <tbody>\n",
       "    <tr>\n",
       "      <th>0</th>\n",
       "      <td>2018.06.25</td>\n",
       "      <td>25-Jun-2018</td>\n",
       "      <td>2018.0</td>\n",
       "      <td>Boating</td>\n",
       "      <td>USA</td>\n",
       "      <td>California</td>\n",
       "      <td>Oceanside, San Diego County</td>\n",
       "      <td>Paddling</td>\n",
       "      <td>F</td>\n",
       "      <td>57</td>\n",
       "      <td>No injury to occupant, outrigger canoe and pad...</td>\n",
       "      <td>N</td>\n",
       "      <td>18h00</td>\n",
       "      <td>White shark</td>\n",
       "    </tr>\n",
       "    <tr>\n",
       "      <th>1</th>\n",
       "      <td>2018.06.18</td>\n",
       "      <td>18-Jun-2018</td>\n",
       "      <td>2018.0</td>\n",
       "      <td>Unprovoked</td>\n",
       "      <td>USA</td>\n",
       "      <td>Georgia</td>\n",
       "      <td>St. Simon Island, Glynn County</td>\n",
       "      <td>Standing</td>\n",
       "      <td>F</td>\n",
       "      <td>11</td>\n",
       "      <td>Minor injury to left thigh</td>\n",
       "      <td>N</td>\n",
       "      <td>14h00  -15h00</td>\n",
       "      <td>NaN</td>\n",
       "    </tr>\n",
       "  </tbody>\n",
       "</table>\n",
       "</div>"
      ],
      "text/plain": [
       "  case number         date    year        type country        area  \\\n",
       "0  2018.06.25  25-Jun-2018  2018.0     Boating     USA  California   \n",
       "1  2018.06.18  18-Jun-2018  2018.0  Unprovoked     USA     Georgia   \n",
       "\n",
       "                         location  activity sex  age  \\\n",
       "0     Oceanside, San Diego County  Paddling    F  57   \n",
       "1  St. Simon Island, Glynn County  Standing    F  11   \n",
       "\n",
       "                                              injury fatal (y/n)  \\\n",
       "0  No injury to occupant, outrigger canoe and pad...           N   \n",
       "1                         Minor injury to left thigh           N   \n",
       "\n",
       "            time     species   \n",
       "0          18h00  White shark  \n",
       "1  14h00  -15h00          NaN  "
      ]
     },
     "execution_count": 17,
     "metadata": {},
     "output_type": "execute_result"
    }
   ],
   "source": [
    "# Paso a minúscula todos los nombres de las columnas y cambio el nombre de dos de ellas para eliminar carácteres especiales.\n",
    "tiburon5.columns = map(str.lower, tiburon5.columns)\n",
    "tiburon5.head(2)"
   ]
  },
  {
   "cell_type": "code",
   "execution_count": 18,
   "id": "96752580",
   "metadata": {},
   "outputs": [
    {
     "data": {
      "text/plain": [
       "['case',\n",
       " 'date',\n",
       " 'year',\n",
       " 'type',\n",
       " 'country',\n",
       " 'area',\n",
       " 'location',\n",
       " 'activity',\n",
       " 'sex',\n",
       " 'age',\n",
       " 'injury',\n",
       " 'fatal',\n",
       " 'time',\n",
       " 'species']"
      ]
     },
     "execution_count": 18,
     "metadata": {},
     "output_type": "execute_result"
    }
   ],
   "source": [
    "tiburon6 = tiburon5.rename(columns = {'case number':'case',\n",
    "                                     'fatal (y/n)':'fatal',\n",
    "                                     'sex ':'sex',\n",
    "                                     'species ': 'species'})\n",
    "tiburon6.columns.tolist()"
   ]
  },
  {
   "cell_type": "code",
   "execution_count": 19,
   "id": "132175d2",
   "metadata": {},
   "outputs": [],
   "source": [
    "# Antes de plantear las hipótesis, he decidido mirar dentro de cada columna sus valores únicos para ver que hay en cada una. "
   ]
  },
  {
   "cell_type": "code",
   "execution_count": 20,
   "id": "13c28a5a",
   "metadata": {
    "scrolled": true
   },
   "outputs": [
    {
     "data": {
      "text/plain": [
       "['N', 'Y', nan, 'M', 'UNKNOWN', '2017', ' N', 'N ', 'y']"
      ]
     },
     "execution_count": 20,
     "metadata": {},
     "output_type": "execute_result"
    }
   ],
   "source": [
    "tiburon6['fatal'].unique().tolist()"
   ]
  },
  {
   "cell_type": "code",
   "execution_count": 21,
   "id": "0f4ab4c5",
   "metadata": {},
   "outputs": [
    {
     "data": {
      "text/plain": [
       "'\\nHIPÓTESIS\\n- El sexo masculino ha sufrido más ataques de tiburón\\n- El tiburón blanco es el más peligroso\\n- Hay más ataques de tiburón provocados\\n'"
      ]
     },
     "execution_count": 21,
     "metadata": {},
     "output_type": "execute_result"
    }
   ],
   "source": [
    "'''\n",
    "HIPÓTESIS\n",
    "- El sexo masculino ha sufrido más ataques de tiburón\n",
    "- El tiburón blanco es el más peligroso\n",
    "- Hay más ataques de tiburón provocados\n",
    "'''"
   ]
  },
  {
   "cell_type": "code",
   "execution_count": 22,
   "id": "97233576",
   "metadata": {},
   "outputs": [
    {
     "data": {
      "text/plain": [
       "\"\\nDespués de revisar todos los datos de cada columna y plantear las hipótesis, hay ciertas columnas que no son relevantes\\npara llegar a las conclusiones, por lo que se van a eliminar. Son las siguientes:\\n'case', 'date', 'area', 'location', 'injury', 'time'\\nLas variables 'year' y 'country', en principio no son necesarias para el estudio de las hipótesis pero se mantendrán por que\\npodrían proporcionar información relevante en cuanto a localización o tiempo de los ataques.\\n\""
      ]
     },
     "execution_count": 22,
     "metadata": {},
     "output_type": "execute_result"
    }
   ],
   "source": [
    "'''\n",
    "Después de revisar todos los datos de cada columna y plantear las hipótesis, hay ciertas columnas que no son relevantes\n",
    "para llegar a las conclusiones, por lo que se van a eliminar. Son las siguientes:\n",
    "'case', 'date', 'area', 'location', 'injury', 'time'\n",
    "Las variables 'year' y 'country', en principio no son necesarias para el estudio de las hipótesis pero se mantendrán por que\n",
    "podrían proporcionar información relevante en cuanto a localización o tiempo de los ataques.\n",
    "'''"
   ]
  },
  {
   "cell_type": "code",
   "execution_count": 23,
   "id": "1387cade",
   "metadata": {},
   "outputs": [
    {
     "data": {
      "text/html": [
       "<div>\n",
       "<style scoped>\n",
       "    .dataframe tbody tr th:only-of-type {\n",
       "        vertical-align: middle;\n",
       "    }\n",
       "\n",
       "    .dataframe tbody tr th {\n",
       "        vertical-align: top;\n",
       "    }\n",
       "\n",
       "    .dataframe thead th {\n",
       "        text-align: right;\n",
       "    }\n",
       "</style>\n",
       "<table border=\"1\" class=\"dataframe\">\n",
       "  <thead>\n",
       "    <tr style=\"text-align: right;\">\n",
       "      <th></th>\n",
       "      <th>year</th>\n",
       "      <th>type</th>\n",
       "      <th>country</th>\n",
       "      <th>activity</th>\n",
       "      <th>sex</th>\n",
       "      <th>fatal</th>\n",
       "      <th>species</th>\n",
       "    </tr>\n",
       "  </thead>\n",
       "  <tbody>\n",
       "    <tr>\n",
       "      <th>0</th>\n",
       "      <td>2018.0</td>\n",
       "      <td>Boating</td>\n",
       "      <td>USA</td>\n",
       "      <td>Paddling</td>\n",
       "      <td>F</td>\n",
       "      <td>N</td>\n",
       "      <td>White shark</td>\n",
       "    </tr>\n",
       "    <tr>\n",
       "      <th>1</th>\n",
       "      <td>2018.0</td>\n",
       "      <td>Unprovoked</td>\n",
       "      <td>USA</td>\n",
       "      <td>Standing</td>\n",
       "      <td>F</td>\n",
       "      <td>N</td>\n",
       "      <td>NaN</td>\n",
       "    </tr>\n",
       "    <tr>\n",
       "      <th>2</th>\n",
       "      <td>2018.0</td>\n",
       "      <td>Invalid</td>\n",
       "      <td>USA</td>\n",
       "      <td>Surfing</td>\n",
       "      <td>M</td>\n",
       "      <td>N</td>\n",
       "      <td>NaN</td>\n",
       "    </tr>\n",
       "    <tr>\n",
       "      <th>3</th>\n",
       "      <td>2018.0</td>\n",
       "      <td>Unprovoked</td>\n",
       "      <td>AUSTRALIA</td>\n",
       "      <td>Surfing</td>\n",
       "      <td>M</td>\n",
       "      <td>N</td>\n",
       "      <td>2 m shark</td>\n",
       "    </tr>\n",
       "    <tr>\n",
       "      <th>4</th>\n",
       "      <td>2018.0</td>\n",
       "      <td>Provoked</td>\n",
       "      <td>MEXICO</td>\n",
       "      <td>Free diving</td>\n",
       "      <td>M</td>\n",
       "      <td>N</td>\n",
       "      <td>Tiger shark, 3m</td>\n",
       "    </tr>\n",
       "    <tr>\n",
       "      <th>...</th>\n",
       "      <td>...</td>\n",
       "      <td>...</td>\n",
       "      <td>...</td>\n",
       "      <td>...</td>\n",
       "      <td>...</td>\n",
       "      <td>...</td>\n",
       "      <td>...</td>\n",
       "    </tr>\n",
       "    <tr>\n",
       "      <th>6297</th>\n",
       "      <td>0.0</td>\n",
       "      <td>Unprovoked</td>\n",
       "      <td>AUSTRALIA</td>\n",
       "      <td>Diving</td>\n",
       "      <td>M</td>\n",
       "      <td>Y</td>\n",
       "      <td>NaN</td>\n",
       "    </tr>\n",
       "    <tr>\n",
       "      <th>6298</th>\n",
       "      <td>0.0</td>\n",
       "      <td>Unprovoked</td>\n",
       "      <td>AUSTRALIA</td>\n",
       "      <td>Pearl diving</td>\n",
       "      <td>M</td>\n",
       "      <td>Y</td>\n",
       "      <td>NaN</td>\n",
       "    </tr>\n",
       "    <tr>\n",
       "      <th>6299</th>\n",
       "      <td>0.0</td>\n",
       "      <td>Unprovoked</td>\n",
       "      <td>USA</td>\n",
       "      <td>Swimming</td>\n",
       "      <td>M</td>\n",
       "      <td>Y</td>\n",
       "      <td>NaN</td>\n",
       "    </tr>\n",
       "    <tr>\n",
       "      <th>6300</th>\n",
       "      <td>0.0</td>\n",
       "      <td>Unprovoked</td>\n",
       "      <td>PANAMA</td>\n",
       "      <td>NaN</td>\n",
       "      <td>M</td>\n",
       "      <td>Y</td>\n",
       "      <td>NaN</td>\n",
       "    </tr>\n",
       "    <tr>\n",
       "      <th>6301</th>\n",
       "      <td>0.0</td>\n",
       "      <td>Unprovoked</td>\n",
       "      <td>CEYLON (SRI LANKA)</td>\n",
       "      <td>Swimming</td>\n",
       "      <td>M</td>\n",
       "      <td>Y</td>\n",
       "      <td>NaN</td>\n",
       "    </tr>\n",
       "  </tbody>\n",
       "</table>\n",
       "<p>6302 rows × 7 columns</p>\n",
       "</div>"
      ],
      "text/plain": [
       "        year        type             country      activity sex fatal  \\\n",
       "0     2018.0     Boating                 USA      Paddling   F     N   \n",
       "1     2018.0  Unprovoked                 USA      Standing   F     N   \n",
       "2     2018.0     Invalid                 USA       Surfing   M     N   \n",
       "3     2018.0  Unprovoked           AUSTRALIA       Surfing   M     N   \n",
       "4     2018.0    Provoked              MEXICO   Free diving   M     N   \n",
       "...      ...         ...                 ...           ...  ..   ...   \n",
       "6297     0.0  Unprovoked           AUSTRALIA        Diving   M     Y   \n",
       "6298     0.0  Unprovoked           AUSTRALIA  Pearl diving   M     Y   \n",
       "6299     0.0  Unprovoked                 USA      Swimming   M     Y   \n",
       "6300     0.0  Unprovoked              PANAMA           NaN   M     Y   \n",
       "6301     0.0  Unprovoked  CEYLON (SRI LANKA)      Swimming   M     Y   \n",
       "\n",
       "              species  \n",
       "0         White shark  \n",
       "1                 NaN  \n",
       "2                 NaN  \n",
       "3           2 m shark  \n",
       "4     Tiger shark, 3m  \n",
       "...               ...  \n",
       "6297              NaN  \n",
       "6298              NaN  \n",
       "6299              NaN  \n",
       "6300              NaN  \n",
       "6301              NaN  \n",
       "\n",
       "[6302 rows x 7 columns]"
      ]
     },
     "execution_count": 23,
     "metadata": {},
     "output_type": "execute_result"
    }
   ],
   "source": [
    "tiburon7 = tiburon6.drop(['case', 'date', 'area', 'location', 'age', 'injury', 'time'], axis=1)\n",
    "tiburon7"
   ]
  },
  {
   "cell_type": "code",
   "execution_count": 24,
   "id": "8d56c402",
   "metadata": {},
   "outputs": [
    {
     "data": {
      "text/plain": [
       "year           2\n",
       "type           4\n",
       "country       50\n",
       "activity     544\n",
       "sex          565\n",
       "fatal        539\n",
       "species     2838\n",
       "dtype: int64"
      ]
     },
     "execution_count": 24,
     "metadata": {},
     "output_type": "execute_result"
    }
   ],
   "source": [
    "# Aún hay NaNs en algunas columnas. Voy a ver cuantos y a reemplazarlos por 'Unknown'\n",
    "tiburon7.isnull().sum()"
   ]
  },
  {
   "cell_type": "code",
   "execution_count": 25,
   "id": "00412582",
   "metadata": {},
   "outputs": [
    {
     "data": {
      "text/html": [
       "<div>\n",
       "<style scoped>\n",
       "    .dataframe tbody tr th:only-of-type {\n",
       "        vertical-align: middle;\n",
       "    }\n",
       "\n",
       "    .dataframe tbody tr th {\n",
       "        vertical-align: top;\n",
       "    }\n",
       "\n",
       "    .dataframe thead th {\n",
       "        text-align: right;\n",
       "    }\n",
       "</style>\n",
       "<table border=\"1\" class=\"dataframe\">\n",
       "  <thead>\n",
       "    <tr style=\"text-align: right;\">\n",
       "      <th></th>\n",
       "      <th>year</th>\n",
       "      <th>type</th>\n",
       "      <th>country</th>\n",
       "      <th>activity</th>\n",
       "      <th>sex</th>\n",
       "      <th>fatal</th>\n",
       "      <th>species</th>\n",
       "    </tr>\n",
       "  </thead>\n",
       "  <tbody>\n",
       "    <tr>\n",
       "      <th>4364</th>\n",
       "      <td>1953.0</td>\n",
       "      <td>Unprovoked</td>\n",
       "      <td>USA</td>\n",
       "      <td>Scuba diving</td>\n",
       "      <td>M</td>\n",
       "      <td>N</td>\n",
       "      <td>Unknown</td>\n",
       "    </tr>\n",
       "    <tr>\n",
       "      <th>4683</th>\n",
       "      <td>1943.0</td>\n",
       "      <td>Sea Disaster</td>\n",
       "      <td>PACIFIC OCEAN</td>\n",
       "      <td>The USS Wahoo torpedoes &amp; sank the Japanese tr...</td>\n",
       "      <td>M</td>\n",
       "      <td>Y</td>\n",
       "      <td>Unknown</td>\n",
       "    </tr>\n",
       "    <tr>\n",
       "      <th>5376</th>\n",
       "      <td>1912.0</td>\n",
       "      <td>Unprovoked</td>\n",
       "      <td>FIJI</td>\n",
       "      <td>Washed overboard</td>\n",
       "      <td>M</td>\n",
       "      <td>Y</td>\n",
       "      <td>Unknown</td>\n",
       "    </tr>\n",
       "    <tr>\n",
       "      <th>5633</th>\n",
       "      <td>1895.0</td>\n",
       "      <td>Unprovoked</td>\n",
       "      <td>USA</td>\n",
       "      <td>Swimming</td>\n",
       "      <td>M</td>\n",
       "      <td>Y</td>\n",
       "      <td>Unknown</td>\n",
       "    </tr>\n",
       "    <tr>\n",
       "      <th>1516</th>\n",
       "      <td>2005.0</td>\n",
       "      <td>Unprovoked</td>\n",
       "      <td>USA</td>\n",
       "      <td>Swimming</td>\n",
       "      <td>M</td>\n",
       "      <td>N</td>\n",
       "      <td>Tiger shark</td>\n",
       "    </tr>\n",
       "  </tbody>\n",
       "</table>\n",
       "</div>"
      ],
      "text/plain": [
       "        year          type        country  \\\n",
       "4364  1953.0    Unprovoked            USA   \n",
       "4683  1943.0  Sea Disaster  PACIFIC OCEAN   \n",
       "5376  1912.0    Unprovoked           FIJI   \n",
       "5633  1895.0    Unprovoked            USA   \n",
       "1516  2005.0    Unprovoked            USA   \n",
       "\n",
       "                                               activity sex fatal      species  \n",
       "4364                                       Scuba diving   M     N      Unknown  \n",
       "4683  The USS Wahoo torpedoes & sank the Japanese tr...   M     Y      Unknown  \n",
       "5376                                   Washed overboard   M     Y      Unknown  \n",
       "5633                                           Swimming   M     Y      Unknown  \n",
       "1516                                           Swimming   M     N  Tiger shark  "
      ]
     },
     "execution_count": 25,
     "metadata": {},
     "output_type": "execute_result"
    }
   ],
   "source": [
    "# Sustituyo todos los NaN por \"Unknown\"\n",
    "tiburon7.fillna('Unknown', inplace= True)\n",
    "tiburon7.sample(5)"
   ]
  },
  {
   "cell_type": "code",
   "execution_count": 26,
   "id": "e506c9f5",
   "metadata": {},
   "outputs": [
    {
     "data": {
      "text/plain": [
       "year        0\n",
       "type        0\n",
       "country     0\n",
       "activity    0\n",
       "sex         0\n",
       "fatal       0\n",
       "species     0\n",
       "dtype: int64"
      ]
     },
     "execution_count": 26,
     "metadata": {},
     "output_type": "execute_result"
    }
   ],
   "source": [
    "tiburon7.isna().sum()"
   ]
  },
  {
   "cell_type": "markdown",
   "id": "a7476dc3",
   "metadata": {},
   "source": [
    "## Variable 'year'"
   ]
  },
  {
   "cell_type": "code",
   "execution_count": 27,
   "id": "04f2f0bc",
   "metadata": {},
   "outputs": [],
   "source": [
    "#Ojo!!  Donde haya 1s son Unknown!! \n",
    "tiburon7['year'] = tiburon7['year'].replace(['Unknown'], '1')"
   ]
  },
  {
   "cell_type": "code",
   "execution_count": 28,
   "id": "d4a357ad",
   "metadata": {
    "scrolled": true
   },
   "outputs": [],
   "source": [
    "tiburon7['year'] = tiburon7['year'].astype(int)"
   ]
  },
  {
   "cell_type": "code",
   "execution_count": 29,
   "id": "574fb3d8",
   "metadata": {},
   "outputs": [],
   "source": [
    "# tiburon7['year'].unique().tolist()"
   ]
  },
  {
   "cell_type": "code",
   "execution_count": 30,
   "id": "66b42287",
   "metadata": {},
   "outputs": [],
   "source": [
    "tiburon7['year'] = tiburon7['year'].replace([1], 'Unknown')"
   ]
  },
  {
   "cell_type": "markdown",
   "id": "f85f1a74",
   "metadata": {},
   "source": [
    "## Variable 'type'"
   ]
  },
  {
   "cell_type": "code",
   "execution_count": 31,
   "id": "fd7b58a3",
   "metadata": {},
   "outputs": [],
   "source": [
    "tiburon7['type'] = tiburon7['type'].replace(['Boating', 'Boatomg'], 'Boat')"
   ]
  },
  {
   "cell_type": "code",
   "execution_count": 32,
   "id": "58787a90",
   "metadata": {
    "scrolled": true
   },
   "outputs": [
    {
     "data": {
      "text/plain": [
       "['Boat',\n",
       " 'Unprovoked',\n",
       " 'Invalid',\n",
       " 'Provoked',\n",
       " 'Questionable',\n",
       " 'Sea Disaster',\n",
       " 'Unknown']"
      ]
     },
     "execution_count": 32,
     "metadata": {},
     "output_type": "execute_result"
    }
   ],
   "source": [
    "tiburon7['type'].unique().tolist()"
   ]
  },
  {
   "cell_type": "markdown",
   "id": "84370117",
   "metadata": {},
   "source": [
    "# Variable 'Country'  ¡¡¡¡¡ Volver a revisar si tienes tiempo --- OJO!!!"
   ]
  },
  {
   "cell_type": "code",
   "execution_count": 33,
   "id": "b046d68e",
   "metadata": {},
   "outputs": [],
   "source": [
    "# tiburon7['country'].unique().tolist()"
   ]
  },
  {
   "cell_type": "code",
   "execution_count": 34,
   "id": "5a3d5f6a",
   "metadata": {},
   "outputs": [],
   "source": [
    "tiburon7['country'] = tiburon7['country'].str.lower().str.strip()"
   ]
  },
  {
   "cell_type": "code",
   "execution_count": 35,
   "id": "474c2d80",
   "metadata": {},
   "outputs": [],
   "source": [
    "#tiburon7['country'] = tiburon7['country'].str.strip()"
   ]
  },
  {
   "cell_type": "code",
   "execution_count": null,
   "id": "f73a4b01",
   "metadata": {},
   "outputs": [],
   "source": []
  },
  {
   "cell_type": "code",
   "execution_count": null,
   "id": "6b28f6bb",
   "metadata": {},
   "outputs": [],
   "source": []
  },
  {
   "cell_type": "markdown",
   "id": "797c5a25",
   "metadata": {},
   "source": [
    "## Variable 'Activity'"
   ]
  },
  {
   "cell_type": "code",
   "execution_count": null,
   "id": "f6322172",
   "metadata": {},
   "outputs": [],
   "source": []
  },
  {
   "cell_type": "code",
   "execution_count": null,
   "id": "3a0d2a0c",
   "metadata": {},
   "outputs": [],
   "source": []
  },
  {
   "cell_type": "code",
   "execution_count": null,
   "id": "b02baaa5",
   "metadata": {},
   "outputs": [],
   "source": []
  },
  {
   "cell_type": "markdown",
   "id": "c6a01f75",
   "metadata": {},
   "source": [
    "## Variable 'Sex'"
   ]
  },
  {
   "cell_type": "code",
   "execution_count": 36,
   "id": "df4de5f4",
   "metadata": {},
   "outputs": [
    {
     "data": {
      "text/plain": [
       "['F', 'M', 'Unknown', 'M ', 'lli', 'N', '.']"
      ]
     },
     "execution_count": 36,
     "metadata": {},
     "output_type": "execute_result"
    }
   ],
   "source": [
    "tiburon7['sex'].unique().tolist()"
   ]
  },
  {
   "cell_type": "code",
   "execution_count": 37,
   "id": "23c7915c",
   "metadata": {},
   "outputs": [],
   "source": [
    "# Se eliminan espacios en blanco\n",
    "tiburon7['sex'] = tiburon7['sex'].str.strip()"
   ]
  },
  {
   "cell_type": "code",
   "execution_count": 38,
   "id": "51acd075",
   "metadata": {},
   "outputs": [],
   "source": [
    "# Se crea una función para que todos aquellos carácteres que no sean ni 'M' ni 'F' se sustituyan por 'unknown'\n",
    "def funcion_sex (a):\n",
    "    if a not in ('F', 'M'):\n",
    "        return 'Unknown'\n",
    "    else:\n",
    "        return a"
   ]
  },
  {
   "cell_type": "code",
   "execution_count": 39,
   "id": "69b74686",
   "metadata": {},
   "outputs": [],
   "source": [
    "# Se aplica la función a toda la columna\n",
    "tiburon7.sex = tiburon7.sex.apply(funcion_sex)"
   ]
  },
  {
   "cell_type": "code",
   "execution_count": 40,
   "id": "df8566a3",
   "metadata": {},
   "outputs": [
    {
     "data": {
      "text/plain": [
       "['F', 'M', 'Unknown']"
      ]
     },
     "execution_count": 40,
     "metadata": {},
     "output_type": "execute_result"
    }
   ],
   "source": [
    "# Comprobamos que todo esté ok\n",
    "tiburon7['sex'].unique().tolist()"
   ]
  },
  {
   "cell_type": "markdown",
   "id": "80e0b91e",
   "metadata": {},
   "source": [
    "## Variable 'fatal'"
   ]
  },
  {
   "cell_type": "code",
   "execution_count": 57,
   "id": "5da6fd68",
   "metadata": {},
   "outputs": [],
   "source": [
    "tiburon7.fatal = tiburon7.fatal.str.replace(' ', '').str.upper()"
   ]
  },
  {
   "cell_type": "code",
   "execution_count": 58,
   "id": "2e9601ef",
   "metadata": {},
   "outputs": [
    {
     "data": {
      "text/plain": [
       "['N', 'Y', 'UNKNOWN', 'M', '2017']"
      ]
     },
     "execution_count": 58,
     "metadata": {},
     "output_type": "execute_result"
    }
   ],
   "source": [
    "tiburon7['fatal'].unique().tolist()"
   ]
  },
  {
   "cell_type": "code",
   "execution_count": 66,
   "id": "56647e65",
   "metadata": {},
   "outputs": [],
   "source": [
    "tiburon7['fatal'] = tiburon7['fatal'].replace(['2017','M'], 'UNKNOWN')"
   ]
  },
  {
   "cell_type": "code",
   "execution_count": 67,
   "id": "3d501164",
   "metadata": {},
   "outputs": [],
   "source": [
    "tiburon7['fatal'] = tiburon7['fatal'].replace(['UNKNOWN'], 'Unknown')"
   ]
  },
  {
   "cell_type": "code",
   "execution_count": 68,
   "id": "0bf6224b",
   "metadata": {},
   "outputs": [
    {
     "data": {
      "text/plain": [
       "['N', 'Y', 'Unknown']"
      ]
     },
     "execution_count": 68,
     "metadata": {},
     "output_type": "execute_result"
    }
   ],
   "source": [
    "tiburon7['fatal'].unique().tolist()"
   ]
  },
  {
   "cell_type": "markdown",
   "id": "2295adfd",
   "metadata": {},
   "source": [
    "## Variable 'species'"
   ]
  },
  {
   "cell_type": "code",
   "execution_count": 101,
   "id": "688f0b7d",
   "metadata": {},
   "outputs": [],
   "source": [
    "# tiburon7['species'].unique().tolist()"
   ]
  },
  {
   "cell_type": "code",
   "execution_count": 97,
   "id": "3afc6b5d",
   "metadata": {},
   "outputs": [
    {
     "name": "stderr",
     "output_type": "stream",
     "text": [
      "<ipython-input-97-803dcc26a9ac>:2: FutureWarning: The default value of regex will change from True to False in a future version.\n",
      "  tiburon7.species = tiburon7.species.str.replace('[\\d]+.', '').str.lower()\n"
     ]
    }
   ],
   "source": [
    "# Elimino todos los números que hay en la lista y se pasa todo a minúsculas\n",
    "tiburon7.species = tiburon7.species.str.replace('[\\d]+.', '').str.lower()"
   ]
  },
  {
   "cell_type": "code",
   "execution_count": 100,
   "id": "748c1fe4",
   "metadata": {},
   "outputs": [],
   "source": [
    "# tiburon7['species'].unique().tolist()"
   ]
  },
  {
   "cell_type": "code",
   "execution_count": 69,
   "id": "4b449d8a",
   "metadata": {},
   "outputs": [],
   "source": [
    "#def function_species(palabra):\n",
    "    if 'white' in palabra:\n",
    "        return \"white shark\"\n",
    "    else:\n",
    "        return palabra "
   ]
  },
  {
   "cell_type": "code",
   "execution_count": 70,
   "id": "1c389733",
   "metadata": {},
   "outputs": [],
   "source": [
    "#tiburon7.species = tiburon7.species.apply(function_species)"
   ]
  },
  {
   "cell_type": "code",
   "execution_count": 99,
   "id": "cb3f5071",
   "metadata": {},
   "outputs": [],
   "source": [
    "# tiburon7['species'].value_counts()"
   ]
  },
  {
   "cell_type": "code",
   "execution_count": 103,
   "id": "516285f4",
   "metadata": {},
   "outputs": [
    {
     "data": {
      "text/plain": [
       "unknown                                               2839\n",
       "white shark                                            667\n",
       " shark                                                 234\n",
       "m [] shark                                             211\n",
       "shark involvement prior to death was not confirmed     105\n",
       "invalid                                                102\n",
       "m shark                                                100\n",
       " to  shark                                             100\n",
       "shark involvement not confirmed                         89\n",
       "tiger shark                                             73\n",
       "shark involvement prior to death unconfirmed            68\n",
       "bull shark                                              55\n",
       "m to m [ to ] shark                                     42\n",
       "questionable incident                                   38\n",
       "questionable                                            34\n",
       "bull shark,                                             22\n",
       "no shark involvement                                    21\n",
       "wobbegong shark                                         21\n",
       "tiger shark,                                            21\n",
       "tiger shark, m []                                       20\n",
       "tiger shark, m []                                       17\n",
       "tiger shark, m to m [ to ]                              16\n",
       "\"a small shark\"                                         16\n",
       "blacktip shark                                          15\n",
       "blue shark                                              14\n",
       "tiger shark,                                            14\n",
       "bronze whaler shark, m []                               13\n",
       "mako shark                                              13\n",
       "shark involvement prior to death not confirmed          13\n",
       "nurse shark                                             13\n",
       "bronze whaler shark                                     12\n",
       "raggedtooth shark                                       12\n",
       "zambesi shark                                           11\n",
       "grey nurse shark                                        11\n",
       "a small shark                                           11\n",
       "lb shark                                                10\n",
       "raggedtooth shark, m []                                 10\n",
       "m [] bull shark                                         10\n",
       "m []  shark                                              9\n",
       "nurse shark, m []                                        9\n",
       "Name: species, dtype: int64"
      ]
     },
     "execution_count": 103,
     "metadata": {},
     "output_type": "execute_result"
    }
   ],
   "source": [
    "tiburon7['species'].value_counts().head(40)"
   ]
  },
  {
   "cell_type": "code",
   "execution_count": 104,
   "id": "d43092ea",
   "metadata": {},
   "outputs": [
    {
     "data": {
      "text/html": [
       "<div>\n",
       "<style scoped>\n",
       "    .dataframe tbody tr th:only-of-type {\n",
       "        vertical-align: middle;\n",
       "    }\n",
       "\n",
       "    .dataframe tbody tr th {\n",
       "        vertical-align: top;\n",
       "    }\n",
       "\n",
       "    .dataframe thead th {\n",
       "        text-align: right;\n",
       "    }\n",
       "</style>\n",
       "<table border=\"1\" class=\"dataframe\">\n",
       "  <thead>\n",
       "    <tr style=\"text-align: right;\">\n",
       "      <th></th>\n",
       "      <th>year</th>\n",
       "      <th>type</th>\n",
       "      <th>country</th>\n",
       "      <th>activity</th>\n",
       "      <th>sex</th>\n",
       "      <th>fatal</th>\n",
       "      <th>species</th>\n",
       "      <th>especies</th>\n",
       "    </tr>\n",
       "  </thead>\n",
       "  <tbody>\n",
       "    <tr>\n",
       "      <th>0</th>\n",
       "      <td>2018</td>\n",
       "      <td>Boat</td>\n",
       "      <td>usa</td>\n",
       "      <td>Paddling</td>\n",
       "      <td>F</td>\n",
       "      <td>N</td>\n",
       "      <td>white shark</td>\n",
       "      <td>white shark</td>\n",
       "    </tr>\n",
       "    <tr>\n",
       "      <th>1</th>\n",
       "      <td>2018</td>\n",
       "      <td>Unprovoked</td>\n",
       "      <td>usa</td>\n",
       "      <td>Standing</td>\n",
       "      <td>F</td>\n",
       "      <td>N</td>\n",
       "      <td>unknown</td>\n",
       "      <td>NaN</td>\n",
       "    </tr>\n",
       "    <tr>\n",
       "      <th>2</th>\n",
       "      <td>2018</td>\n",
       "      <td>Invalid</td>\n",
       "      <td>usa</td>\n",
       "      <td>Surfing</td>\n",
       "      <td>M</td>\n",
       "      <td>N</td>\n",
       "      <td>unknown</td>\n",
       "      <td>NaN</td>\n",
       "    </tr>\n",
       "    <tr>\n",
       "      <th>3</th>\n",
       "      <td>2018</td>\n",
       "      <td>Unprovoked</td>\n",
       "      <td>australia</td>\n",
       "      <td>Surfing</td>\n",
       "      <td>M</td>\n",
       "      <td>N</td>\n",
       "      <td>m shark</td>\n",
       "      <td>NaN</td>\n",
       "    </tr>\n",
       "    <tr>\n",
       "      <th>4</th>\n",
       "      <td>2018</td>\n",
       "      <td>Provoked</td>\n",
       "      <td>mexico</td>\n",
       "      <td>Free diving</td>\n",
       "      <td>M</td>\n",
       "      <td>N</td>\n",
       "      <td>tiger shark,</td>\n",
       "      <td>tiger shark</td>\n",
       "    </tr>\n",
       "    <tr>\n",
       "      <th>...</th>\n",
       "      <td>...</td>\n",
       "      <td>...</td>\n",
       "      <td>...</td>\n",
       "      <td>...</td>\n",
       "      <td>...</td>\n",
       "      <td>...</td>\n",
       "      <td>...</td>\n",
       "      <td>...</td>\n",
       "    </tr>\n",
       "    <tr>\n",
       "      <th>6297</th>\n",
       "      <td>0</td>\n",
       "      <td>Unprovoked</td>\n",
       "      <td>australia</td>\n",
       "      <td>Diving</td>\n",
       "      <td>M</td>\n",
       "      <td>Y</td>\n",
       "      <td>unknown</td>\n",
       "      <td>NaN</td>\n",
       "    </tr>\n",
       "    <tr>\n",
       "      <th>6298</th>\n",
       "      <td>0</td>\n",
       "      <td>Unprovoked</td>\n",
       "      <td>australia</td>\n",
       "      <td>Pearl diving</td>\n",
       "      <td>M</td>\n",
       "      <td>Y</td>\n",
       "      <td>unknown</td>\n",
       "      <td>NaN</td>\n",
       "    </tr>\n",
       "    <tr>\n",
       "      <th>6299</th>\n",
       "      <td>0</td>\n",
       "      <td>Unprovoked</td>\n",
       "      <td>usa</td>\n",
       "      <td>Swimming</td>\n",
       "      <td>M</td>\n",
       "      <td>Y</td>\n",
       "      <td>unknown</td>\n",
       "      <td>NaN</td>\n",
       "    </tr>\n",
       "    <tr>\n",
       "      <th>6300</th>\n",
       "      <td>0</td>\n",
       "      <td>Unprovoked</td>\n",
       "      <td>panama</td>\n",
       "      <td>Unknown</td>\n",
       "      <td>M</td>\n",
       "      <td>Y</td>\n",
       "      <td>unknown</td>\n",
       "      <td>NaN</td>\n",
       "    </tr>\n",
       "    <tr>\n",
       "      <th>6301</th>\n",
       "      <td>0</td>\n",
       "      <td>Unprovoked</td>\n",
       "      <td>ceylon (sri lanka)</td>\n",
       "      <td>Swimming</td>\n",
       "      <td>M</td>\n",
       "      <td>Y</td>\n",
       "      <td>unknown</td>\n",
       "      <td>NaN</td>\n",
       "    </tr>\n",
       "  </tbody>\n",
       "</table>\n",
       "<p>6302 rows × 8 columns</p>\n",
       "</div>"
      ],
      "text/plain": [
       "      year        type             country      activity sex fatal  \\\n",
       "0     2018        Boat                 usa      Paddling   F     N   \n",
       "1     2018  Unprovoked                 usa      Standing   F     N   \n",
       "2     2018     Invalid                 usa       Surfing   M     N   \n",
       "3     2018  Unprovoked           australia       Surfing   M     N   \n",
       "4     2018    Provoked              mexico   Free diving   M     N   \n",
       "...    ...         ...                 ...           ...  ..   ...   \n",
       "6297     0  Unprovoked           australia        Diving   M     Y   \n",
       "6298     0  Unprovoked           australia  Pearl diving   M     Y   \n",
       "6299     0  Unprovoked                 usa      Swimming   M     Y   \n",
       "6300     0  Unprovoked              panama       Unknown   M     Y   \n",
       "6301     0  Unprovoked  ceylon (sri lanka)      Swimming   M     Y   \n",
       "\n",
       "            species     especies  \n",
       "0       white shark  white shark  \n",
       "1           unknown          NaN  \n",
       "2           unknown          NaN  \n",
       "3           m shark          NaN  \n",
       "4     tiger shark,   tiger shark  \n",
       "...             ...          ...  \n",
       "6297        unknown          NaN  \n",
       "6298        unknown          NaN  \n",
       "6299        unknown          NaN  \n",
       "6300        unknown          NaN  \n",
       "6301        unknown          NaN  \n",
       "\n",
       "[6302 rows x 8 columns]"
      ]
     },
     "execution_count": 104,
     "metadata": {},
     "output_type": "execute_result"
    }
   ],
   "source": [
    "import re\n",
    "L = ['white shark', 'tiger shark', 'bull shark', 'mako shark', \n",
    "     'lemon shark', 'whitetip shark', 'blue shark', 'galapagos shark', 'caribbean shark', 'dusty shark', \n",
    "     'black shark', 'silky shark', 'reef shark', 'hammerhead shark', 'nurse shark', 'blacktip shark', \n",
    "     'wobbegong shark', 'raggedtooth shark']\n",
    "\n",
    "pat = '|'.join(r\"\\b{}\\b\".format(x) for x in L)\n",
    "\n",
    "tiburon7['especies'] = tiburon7['species'].str.extract('('+ pat + ')', expand=False, flags=re.I)"
   ]
  },
  {
   "cell_type": "code",
   "execution_count": 105,
   "id": "cc5d52a6",
   "metadata": {},
   "outputs": [
    {
     "data": {
      "text/plain": [
       "['white shark',\n",
       " nan,\n",
       " 'tiger shark',\n",
       " 'lemon shark',\n",
       " 'bull shark',\n",
       " 'reef shark',\n",
       " 'nurse shark',\n",
       " 'wobbegong shark',\n",
       " 'blacktip shark',\n",
       " 'galapagos shark',\n",
       " 'blue shark',\n",
       " 'mako shark',\n",
       " 'silky shark',\n",
       " 'hammerhead shark',\n",
       " 'raggedtooth shark']"
      ]
     },
     "execution_count": 105,
     "metadata": {},
     "output_type": "execute_result"
    }
   ],
   "source": [
    "tiburon7['especies'].unique().tolist()"
   ]
  },
  {
   "cell_type": "code",
   "execution_count": 106,
   "id": "e9abf1f9",
   "metadata": {},
   "outputs": [
    {
     "data": {
      "text/plain": [
       "1586"
      ]
     },
     "execution_count": 106,
     "metadata": {},
     "output_type": "execute_result"
    }
   ],
   "source": [
    "tiburon7['especies'].value_counts().sum()"
   ]
  },
  {
   "cell_type": "code",
   "execution_count": 107,
   "id": "502ce9c9",
   "metadata": {},
   "outputs": [
    {
     "data": {
      "text/plain": [
       "4716"
      ]
     },
     "execution_count": 107,
     "metadata": {},
     "output_type": "execute_result"
    }
   ],
   "source": [
    "tiburon7.especies.isna().sum()"
   ]
  },
  {
   "cell_type": "markdown",
   "id": "268b1bae",
   "metadata": {},
   "source": [
    " ## Estas funcionan por separado:"
   ]
  },
  {
   "cell_type": "code",
   "execution_count": 54,
   "id": "d562e414",
   "metadata": {},
   "outputs": [],
   "source": [
    "# df.sport = df.sport.apply(lambda x: 'ball sport' if 'ball' in x else x)\n",
    "# tiburon7.species = tiburon7.species.apply(lambda x:'white shark' if 'white' in x else x)"
   ]
  },
  {
   "cell_type": "code",
   "execution_count": 55,
   "id": "37fc45dd",
   "metadata": {},
   "outputs": [],
   "source": [
    "# tiburon7.species = tiburon7.species.apply(lambda x:'tiger shark' if 'tiger' in x else x)"
   ]
  },
  {
   "cell_type": "code",
   "execution_count": 56,
   "id": "e9acaee9",
   "metadata": {},
   "outputs": [],
   "source": [
    "# tiburon7['species'].unique().tolist()"
   ]
  },
  {
   "cell_type": "code",
   "execution_count": null,
   "id": "015cb16a",
   "metadata": {},
   "outputs": [],
   "source": []
  }
 ],
 "metadata": {
  "kernelspec": {
   "display_name": "ironhack",
   "language": "python",
   "name": "ironhack"
  },
  "language_info": {
   "codemirror_mode": {
    "name": "ipython",
    "version": 3
   },
   "file_extension": ".py",
   "mimetype": "text/x-python",
   "name": "python",
   "nbconvert_exporter": "python",
   "pygments_lexer": "ipython3",
   "version": "3.8.5"
  }
 },
 "nbformat": 4,
 "nbformat_minor": 5
}
