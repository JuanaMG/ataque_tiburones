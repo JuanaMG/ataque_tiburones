{
 "cells": [
  {
   "cell_type": "code",
   "execution_count": 1,
   "id": "91082d33",
   "metadata": {},
   "outputs": [],
   "source": [
    "import numpy as np\n",
    "import pandas as pd\n",
    "import seaborn as sns\n",
    "import matplotlib.pyplot as plt"
   ]
  },
  {
   "cell_type": "code",
   "execution_count": 3,
   "id": "d8d6af32",
   "metadata": {
    "scrolled": false
   },
   "outputs": [
    {
     "data": {
      "text/html": [
       "<div>\n",
       "<style scoped>\n",
       "    .dataframe tbody tr th:only-of-type {\n",
       "        vertical-align: middle;\n",
       "    }\n",
       "\n",
       "    .dataframe tbody tr th {\n",
       "        vertical-align: top;\n",
       "    }\n",
       "\n",
       "    .dataframe thead th {\n",
       "        text-align: right;\n",
       "    }\n",
       "</style>\n",
       "<table border=\"1\" class=\"dataframe\">\n",
       "  <thead>\n",
       "    <tr style=\"text-align: right;\">\n",
       "      <th></th>\n",
       "      <th>Case Number</th>\n",
       "      <th>Date</th>\n",
       "      <th>Year</th>\n",
       "      <th>Type</th>\n",
       "      <th>Country</th>\n",
       "      <th>Area</th>\n",
       "      <th>Location</th>\n",
       "      <th>Activity</th>\n",
       "      <th>Name</th>\n",
       "      <th>Sex</th>\n",
       "      <th>...</th>\n",
       "      <th>Species</th>\n",
       "      <th>Investigator or Source</th>\n",
       "      <th>pdf</th>\n",
       "      <th>href formula</th>\n",
       "      <th>href</th>\n",
       "      <th>Case Number.1</th>\n",
       "      <th>Case Number.2</th>\n",
       "      <th>original order</th>\n",
       "      <th>Unnamed: 22</th>\n",
       "      <th>Unnamed: 23</th>\n",
       "    </tr>\n",
       "  </thead>\n",
       "  <tbody>\n",
       "    <tr>\n",
       "      <th>22106</th>\n",
       "      <td>NaN</td>\n",
       "      <td>NaN</td>\n",
       "      <td>NaN</td>\n",
       "      <td>NaN</td>\n",
       "      <td>NaN</td>\n",
       "      <td>NaN</td>\n",
       "      <td>NaN</td>\n",
       "      <td>NaN</td>\n",
       "      <td>NaN</td>\n",
       "      <td>NaN</td>\n",
       "      <td>...</td>\n",
       "      <td>NaN</td>\n",
       "      <td>NaN</td>\n",
       "      <td>NaN</td>\n",
       "      <td>NaN</td>\n",
       "      <td>NaN</td>\n",
       "      <td>NaN</td>\n",
       "      <td>NaN</td>\n",
       "      <td>NaN</td>\n",
       "      <td>NaN</td>\n",
       "      <td>NaN</td>\n",
       "    </tr>\n",
       "    <tr>\n",
       "      <th>22768</th>\n",
       "      <td>NaN</td>\n",
       "      <td>NaN</td>\n",
       "      <td>NaN</td>\n",
       "      <td>NaN</td>\n",
       "      <td>NaN</td>\n",
       "      <td>NaN</td>\n",
       "      <td>NaN</td>\n",
       "      <td>NaN</td>\n",
       "      <td>NaN</td>\n",
       "      <td>NaN</td>\n",
       "      <td>...</td>\n",
       "      <td>NaN</td>\n",
       "      <td>NaN</td>\n",
       "      <td>NaN</td>\n",
       "      <td>NaN</td>\n",
       "      <td>NaN</td>\n",
       "      <td>NaN</td>\n",
       "      <td>NaN</td>\n",
       "      <td>NaN</td>\n",
       "      <td>NaN</td>\n",
       "      <td>NaN</td>\n",
       "    </tr>\n",
       "    <tr>\n",
       "      <th>17537</th>\n",
       "      <td>NaN</td>\n",
       "      <td>NaN</td>\n",
       "      <td>NaN</td>\n",
       "      <td>NaN</td>\n",
       "      <td>NaN</td>\n",
       "      <td>NaN</td>\n",
       "      <td>NaN</td>\n",
       "      <td>NaN</td>\n",
       "      <td>NaN</td>\n",
       "      <td>NaN</td>\n",
       "      <td>...</td>\n",
       "      <td>NaN</td>\n",
       "      <td>NaN</td>\n",
       "      <td>NaN</td>\n",
       "      <td>NaN</td>\n",
       "      <td>NaN</td>\n",
       "      <td>NaN</td>\n",
       "      <td>NaN</td>\n",
       "      <td>NaN</td>\n",
       "      <td>NaN</td>\n",
       "      <td>NaN</td>\n",
       "    </tr>\n",
       "    <tr>\n",
       "      <th>16371</th>\n",
       "      <td>NaN</td>\n",
       "      <td>NaN</td>\n",
       "      <td>NaN</td>\n",
       "      <td>NaN</td>\n",
       "      <td>NaN</td>\n",
       "      <td>NaN</td>\n",
       "      <td>NaN</td>\n",
       "      <td>NaN</td>\n",
       "      <td>NaN</td>\n",
       "      <td>NaN</td>\n",
       "      <td>...</td>\n",
       "      <td>NaN</td>\n",
       "      <td>NaN</td>\n",
       "      <td>NaN</td>\n",
       "      <td>NaN</td>\n",
       "      <td>NaN</td>\n",
       "      <td>NaN</td>\n",
       "      <td>NaN</td>\n",
       "      <td>NaN</td>\n",
       "      <td>NaN</td>\n",
       "      <td>NaN</td>\n",
       "    </tr>\n",
       "    <tr>\n",
       "      <th>23121</th>\n",
       "      <td>NaN</td>\n",
       "      <td>NaN</td>\n",
       "      <td>NaN</td>\n",
       "      <td>NaN</td>\n",
       "      <td>NaN</td>\n",
       "      <td>NaN</td>\n",
       "      <td>NaN</td>\n",
       "      <td>NaN</td>\n",
       "      <td>NaN</td>\n",
       "      <td>NaN</td>\n",
       "      <td>...</td>\n",
       "      <td>NaN</td>\n",
       "      <td>NaN</td>\n",
       "      <td>NaN</td>\n",
       "      <td>NaN</td>\n",
       "      <td>NaN</td>\n",
       "      <td>NaN</td>\n",
       "      <td>NaN</td>\n",
       "      <td>NaN</td>\n",
       "      <td>NaN</td>\n",
       "      <td>NaN</td>\n",
       "    </tr>\n",
       "  </tbody>\n",
       "</table>\n",
       "<p>5 rows × 24 columns</p>\n",
       "</div>"
      ],
      "text/plain": [
       "      Case Number Date  Year Type Country Area Location Activity Name Sex   \\\n",
       "22106         NaN  NaN   NaN  NaN     NaN  NaN      NaN      NaN  NaN  NaN   \n",
       "22768         NaN  NaN   NaN  NaN     NaN  NaN      NaN      NaN  NaN  NaN   \n",
       "17537         NaN  NaN   NaN  NaN     NaN  NaN      NaN      NaN  NaN  NaN   \n",
       "16371         NaN  NaN   NaN  NaN     NaN  NaN      NaN      NaN  NaN  NaN   \n",
       "23121         NaN  NaN   NaN  NaN     NaN  NaN      NaN      NaN  NaN  NaN   \n",
       "\n",
       "       ... Species  Investigator or Source  pdf href formula href  \\\n",
       "22106  ...      NaN                    NaN  NaN          NaN  NaN   \n",
       "22768  ...      NaN                    NaN  NaN          NaN  NaN   \n",
       "17537  ...      NaN                    NaN  NaN          NaN  NaN   \n",
       "16371  ...      NaN                    NaN  NaN          NaN  NaN   \n",
       "23121  ...      NaN                    NaN  NaN          NaN  NaN   \n",
       "\n",
       "      Case Number.1 Case Number.2 original order Unnamed: 22 Unnamed: 23  \n",
       "22106           NaN           NaN            NaN         NaN         NaN  \n",
       "22768           NaN           NaN            NaN         NaN         NaN  \n",
       "17537           NaN           NaN            NaN         NaN         NaN  \n",
       "16371           NaN           NaN            NaN         NaN         NaN  \n",
       "23121           NaN           NaN            NaN         NaN         NaN  \n",
       "\n",
       "[5 rows x 24 columns]"
      ]
     },
     "execution_count": 3,
     "metadata": {},
     "output_type": "execute_result"
    }
   ],
   "source": [
    "tiburon = pd.read_csv(\"data/attacks.csv\", encoding = \"ISO-8859-1\")\n",
    "tiburon.sample(5)"
   ]
  },
  {
   "cell_type": "code",
   "execution_count": 4,
   "id": "3fe6155d",
   "metadata": {},
   "outputs": [
    {
     "data": {
      "text/plain": [
       "pandas.core.frame.DataFrame"
      ]
     },
     "execution_count": 4,
     "metadata": {},
     "output_type": "execute_result"
    }
   ],
   "source": [
    "# Verificamos que sea un dataframe\n",
    "type(tiburon)"
   ]
  },
  {
   "cell_type": "code",
   "execution_count": 5,
   "id": "b326f2ee",
   "metadata": {},
   "outputs": [
    {
     "data": {
      "text/plain": [
       "Case Number                object\n",
       "Date                       object\n",
       "Year                      float64\n",
       "Type                       object\n",
       "Country                    object\n",
       "Area                       object\n",
       "Location                   object\n",
       "Activity                   object\n",
       "Name                       object\n",
       "Sex                        object\n",
       "Age                        object\n",
       "Injury                     object\n",
       "Fatal (Y/N)                object\n",
       "Time                       object\n",
       "Species                    object\n",
       "Investigator or Source     object\n",
       "pdf                        object\n",
       "href formula               object\n",
       "href                       object\n",
       "Case Number.1              object\n",
       "Case Number.2              object\n",
       "original order            float64\n",
       "Unnamed: 22                object\n",
       "Unnamed: 23                object\n",
       "dtype: object"
      ]
     },
     "execution_count": 5,
     "metadata": {},
     "output_type": "execute_result"
    }
   ],
   "source": [
    "# Ver que tipo de datos hay\n",
    "tiburon.dtypes"
   ]
  },
  {
   "cell_type": "code",
   "execution_count": 6,
   "id": "779355f3",
   "metadata": {},
   "outputs": [
    {
     "data": {
      "text/html": [
       "<div>\n",
       "<style scoped>\n",
       "    .dataframe tbody tr th:only-of-type {\n",
       "        vertical-align: middle;\n",
       "    }\n",
       "\n",
       "    .dataframe tbody tr th {\n",
       "        vertical-align: top;\n",
       "    }\n",
       "\n",
       "    .dataframe thead th {\n",
       "        text-align: right;\n",
       "    }\n",
       "</style>\n",
       "<table border=\"1\" class=\"dataframe\">\n",
       "  <thead>\n",
       "    <tr style=\"text-align: right;\">\n",
       "      <th></th>\n",
       "      <th>Year</th>\n",
       "      <th>original order</th>\n",
       "    </tr>\n",
       "  </thead>\n",
       "  <tbody>\n",
       "    <tr>\n",
       "      <th>count</th>\n",
       "      <td>6300.000000</td>\n",
       "      <td>6309.000000</td>\n",
       "    </tr>\n",
       "    <tr>\n",
       "      <th>mean</th>\n",
       "      <td>1927.272381</td>\n",
       "      <td>3155.999683</td>\n",
       "    </tr>\n",
       "    <tr>\n",
       "      <th>std</th>\n",
       "      <td>281.116308</td>\n",
       "      <td>1821.396206</td>\n",
       "    </tr>\n",
       "    <tr>\n",
       "      <th>min</th>\n",
       "      <td>0.000000</td>\n",
       "      <td>2.000000</td>\n",
       "    </tr>\n",
       "    <tr>\n",
       "      <th>25%</th>\n",
       "      <td>1942.000000</td>\n",
       "      <td>1579.000000</td>\n",
       "    </tr>\n",
       "    <tr>\n",
       "      <th>50%</th>\n",
       "      <td>1977.000000</td>\n",
       "      <td>3156.000000</td>\n",
       "    </tr>\n",
       "    <tr>\n",
       "      <th>75%</th>\n",
       "      <td>2005.000000</td>\n",
       "      <td>4733.000000</td>\n",
       "    </tr>\n",
       "    <tr>\n",
       "      <th>max</th>\n",
       "      <td>2018.000000</td>\n",
       "      <td>6310.000000</td>\n",
       "    </tr>\n",
       "  </tbody>\n",
       "</table>\n",
       "</div>"
      ],
      "text/plain": [
       "              Year  original order\n",
       "count  6300.000000     6309.000000\n",
       "mean   1927.272381     3155.999683\n",
       "std     281.116308     1821.396206\n",
       "min       0.000000        2.000000\n",
       "25%    1942.000000     1579.000000\n",
       "50%    1977.000000     3156.000000\n",
       "75%    2005.000000     4733.000000\n",
       "max    2018.000000     6310.000000"
      ]
     },
     "execution_count": 6,
     "metadata": {},
     "output_type": "execute_result"
    }
   ],
   "source": [
    "tiburon.describe()\n",
    "# Obtener datos estadísticos rápidos de lo que hay dentro."
   ]
  },
  {
   "cell_type": "code",
   "execution_count": 7,
   "id": "3b915cb0",
   "metadata": {},
   "outputs": [
    {
     "data": {
      "text/plain": [
       "Case Number               17021\n",
       "Date                      19421\n",
       "Year                      19423\n",
       "Type                      19425\n",
       "Country                   19471\n",
       "Area                      19876\n",
       "Location                  19961\n",
       "Activity                  19965\n",
       "Name                      19631\n",
       "Sex                       19986\n",
       "Age                       22252\n",
       "Injury                    19449\n",
       "Fatal (Y/N)               19960\n",
       "Time                      22775\n",
       "Species                   22259\n",
       "Investigator or Source    19438\n",
       "pdf                       19421\n",
       "href formula              19422\n",
       "href                      19421\n",
       "Case Number.1             19421\n",
       "Case Number.2             19421\n",
       "original order            19414\n",
       "Unnamed: 22               25722\n",
       "Unnamed: 23               25721\n",
       "dtype: int64"
      ]
     },
     "execution_count": 7,
     "metadata": {},
     "output_type": "execute_result"
    }
   ],
   "source": [
    "# ¿Cuántos nulos existen en cada columna?\n",
    "tiburon.isnull().sum(axis = 0)"
   ]
  },
  {
   "cell_type": "code",
   "execution_count": 8,
   "id": "6da47590",
   "metadata": {},
   "outputs": [
    {
     "data": {
      "text/plain": [
       "'\\nDespués de revisar todos los datos de cada columna del dataframe, hay algunas columnas que podemos eliminar\\nya que no nos van a dar información relevante en el estudio de los ataques de tiburones. Estas son; \\n\"Name\", \"Investigator or Source\", \"pdf\", \"href formula\", \"href\", \"Case Number.1\", \"Case Number.2\", \\n\"original order\", \"Unnamed: 22\", \"Unnamed: 23\".\\n'"
      ]
     },
     "execution_count": 8,
     "metadata": {},
     "output_type": "execute_result"
    }
   ],
   "source": [
    "'''\n",
    "Después de revisar todos los datos de cada columna del dataframe, hay algunas columnas que podemos eliminar\n",
    "ya que no nos van a dar información relevante en el estudio de los ataques de tiburones. Estas son; \n",
    "\"Name\", \"Investigator or Source\", \"pdf\", \"href formula\", \"href\", \"Case Number.1\", \"Case Number.2\", \n",
    "\"original order\", \"Unnamed: 22\", \"Unnamed: 23\".\n",
    "'''"
   ]
  },
  {
   "cell_type": "code",
   "execution_count": 9,
   "id": "ff033169",
   "metadata": {},
   "outputs": [
    {
     "data": {
      "text/html": [
       "<div>\n",
       "<style scoped>\n",
       "    .dataframe tbody tr th:only-of-type {\n",
       "        vertical-align: middle;\n",
       "    }\n",
       "\n",
       "    .dataframe tbody tr th {\n",
       "        vertical-align: top;\n",
       "    }\n",
       "\n",
       "    .dataframe thead th {\n",
       "        text-align: right;\n",
       "    }\n",
       "</style>\n",
       "<table border=\"1\" class=\"dataframe\">\n",
       "  <thead>\n",
       "    <tr style=\"text-align: right;\">\n",
       "      <th></th>\n",
       "      <th>Case Number</th>\n",
       "      <th>Date</th>\n",
       "      <th>Year</th>\n",
       "      <th>Type</th>\n",
       "      <th>Country</th>\n",
       "      <th>Area</th>\n",
       "      <th>Location</th>\n",
       "      <th>Activity</th>\n",
       "      <th>Sex</th>\n",
       "      <th>Age</th>\n",
       "      <th>Injury</th>\n",
       "      <th>Fatal (Y/N)</th>\n",
       "      <th>Time</th>\n",
       "      <th>Species</th>\n",
       "    </tr>\n",
       "  </thead>\n",
       "  <tbody>\n",
       "    <tr>\n",
       "      <th>3440</th>\n",
       "      <td>1969.02.17.R</td>\n",
       "      <td>Reported 17-Feb-1969</td>\n",
       "      <td>1969.0</td>\n",
       "      <td>Provoked</td>\n",
       "      <td>AUSTRALIA</td>\n",
       "      <td>Tasmania</td>\n",
       "      <td>Taroona</td>\n",
       "      <td>Fishing</td>\n",
       "      <td>M</td>\n",
       "      <td>49</td>\n",
       "      <td>Lacerations to hand from hooked shark PROVOKED...</td>\n",
       "      <td>N</td>\n",
       "      <td>Daytime</td>\n",
       "      <td>7-gill shark</td>\n",
       "    </tr>\n",
       "    <tr>\n",
       "      <th>2336</th>\n",
       "      <td>1995.10.01</td>\n",
       "      <td>01-Oct-1995</td>\n",
       "      <td>1995.0</td>\n",
       "      <td>Unprovoked</td>\n",
       "      <td>USA</td>\n",
       "      <td>Florida</td>\n",
       "      <td>Ormond Beach, Volusia County</td>\n",
       "      <td>Surfing</td>\n",
       "      <td>M</td>\n",
       "      <td>39</td>\n",
       "      <td>Right arm injured</td>\n",
       "      <td>N</td>\n",
       "      <td>11h30</td>\n",
       "      <td>1.2 m to 1.5 m [4' to 5']   shark</td>\n",
       "    </tr>\n",
       "    <tr>\n",
       "      <th>20817</th>\n",
       "      <td>NaN</td>\n",
       "      <td>NaN</td>\n",
       "      <td>NaN</td>\n",
       "      <td>NaN</td>\n",
       "      <td>NaN</td>\n",
       "      <td>NaN</td>\n",
       "      <td>NaN</td>\n",
       "      <td>NaN</td>\n",
       "      <td>NaN</td>\n",
       "      <td>NaN</td>\n",
       "      <td>NaN</td>\n",
       "      <td>NaN</td>\n",
       "      <td>NaN</td>\n",
       "      <td>NaN</td>\n",
       "    </tr>\n",
       "    <tr>\n",
       "      <th>7789</th>\n",
       "      <td>0</td>\n",
       "      <td>NaN</td>\n",
       "      <td>NaN</td>\n",
       "      <td>NaN</td>\n",
       "      <td>NaN</td>\n",
       "      <td>NaN</td>\n",
       "      <td>NaN</td>\n",
       "      <td>NaN</td>\n",
       "      <td>NaN</td>\n",
       "      <td>NaN</td>\n",
       "      <td>NaN</td>\n",
       "      <td>NaN</td>\n",
       "      <td>NaN</td>\n",
       "      <td>NaN</td>\n",
       "    </tr>\n",
       "    <tr>\n",
       "      <th>23982</th>\n",
       "      <td>NaN</td>\n",
       "      <td>NaN</td>\n",
       "      <td>NaN</td>\n",
       "      <td>NaN</td>\n",
       "      <td>NaN</td>\n",
       "      <td>NaN</td>\n",
       "      <td>NaN</td>\n",
       "      <td>NaN</td>\n",
       "      <td>NaN</td>\n",
       "      <td>NaN</td>\n",
       "      <td>NaN</td>\n",
       "      <td>NaN</td>\n",
       "      <td>NaN</td>\n",
       "      <td>NaN</td>\n",
       "    </tr>\n",
       "  </tbody>\n",
       "</table>\n",
       "</div>"
      ],
      "text/plain": [
       "        Case Number                  Date    Year        Type    Country  \\\n",
       "3440   1969.02.17.R  Reported 17-Feb-1969  1969.0    Provoked  AUSTRALIA   \n",
       "2336     1995.10.01           01-Oct-1995  1995.0  Unprovoked        USA   \n",
       "20817           NaN                   NaN     NaN         NaN        NaN   \n",
       "7789              0                   NaN     NaN         NaN        NaN   \n",
       "23982           NaN                   NaN     NaN         NaN        NaN   \n",
       "\n",
       "           Area                      Location Activity Sex   Age  \\\n",
       "3440   Tasmania                       Taroona  Fishing    M   49   \n",
       "2336    Florida  Ormond Beach, Volusia County  Surfing    M   39   \n",
       "20817       NaN                           NaN      NaN  NaN  NaN   \n",
       "7789        NaN                           NaN      NaN  NaN  NaN   \n",
       "23982       NaN                           NaN      NaN  NaN  NaN   \n",
       "\n",
       "                                                  Injury Fatal (Y/N)     Time  \\\n",
       "3440   Lacerations to hand from hooked shark PROVOKED...           N  Daytime   \n",
       "2336                                   Right arm injured           N    11h30   \n",
       "20817                                                NaN         NaN      NaN   \n",
       "7789                                                 NaN         NaN      NaN   \n",
       "23982                                                NaN         NaN      NaN   \n",
       "\n",
       "                                Species   \n",
       "3440                        7-gill shark  \n",
       "2336   1.2 m to 1.5 m [4' to 5']   shark  \n",
       "20817                                NaN  \n",
       "7789                                 NaN  \n",
       "23982                                NaN  "
      ]
     },
     "execution_count": 9,
     "metadata": {},
     "output_type": "execute_result"
    }
   ],
   "source": [
    "# Se eliminan las columnas; \n",
    "tiburon2 = tiburon.drop([\"Name\", \"Investigator or Source\", \"pdf\", \"href formula\", \"href\", \"Case Number.1\", \"Case Number.2\", \n",
    "\"original order\", \"Unnamed: 22\", \"Unnamed: 23\"], axis=1)\n",
    "tiburon2.sample(5)"
   ]
  },
  {
   "cell_type": "code",
   "execution_count": 10,
   "id": "b024f543",
   "metadata": {},
   "outputs": [
    {
     "data": {
      "text/html": [
       "<div>\n",
       "<style scoped>\n",
       "    .dataframe tbody tr th:only-of-type {\n",
       "        vertical-align: middle;\n",
       "    }\n",
       "\n",
       "    .dataframe tbody tr th {\n",
       "        vertical-align: top;\n",
       "    }\n",
       "\n",
       "    .dataframe thead th {\n",
       "        text-align: right;\n",
       "    }\n",
       "</style>\n",
       "<table border=\"1\" class=\"dataframe\">\n",
       "  <thead>\n",
       "    <tr style=\"text-align: right;\">\n",
       "      <th></th>\n",
       "      <th>Case Number</th>\n",
       "      <th>Date</th>\n",
       "      <th>Year</th>\n",
       "      <th>Type</th>\n",
       "      <th>Country</th>\n",
       "      <th>Area</th>\n",
       "      <th>Location</th>\n",
       "      <th>Activity</th>\n",
       "      <th>Sex</th>\n",
       "      <th>Age</th>\n",
       "      <th>Injury</th>\n",
       "      <th>Fatal (Y/N)</th>\n",
       "      <th>Time</th>\n",
       "      <th>Species</th>\n",
       "    </tr>\n",
       "  </thead>\n",
       "  <tbody>\n",
       "    <tr>\n",
       "      <th>22207</th>\n",
       "      <td>NaN</td>\n",
       "      <td>NaN</td>\n",
       "      <td>NaN</td>\n",
       "      <td>NaN</td>\n",
       "      <td>NaN</td>\n",
       "      <td>NaN</td>\n",
       "      <td>NaN</td>\n",
       "      <td>NaN</td>\n",
       "      <td>NaN</td>\n",
       "      <td>NaN</td>\n",
       "      <td>NaN</td>\n",
       "      <td>NaN</td>\n",
       "      <td>NaN</td>\n",
       "      <td>NaN</td>\n",
       "    </tr>\n",
       "    <tr>\n",
       "      <th>22528</th>\n",
       "      <td>NaN</td>\n",
       "      <td>NaN</td>\n",
       "      <td>NaN</td>\n",
       "      <td>NaN</td>\n",
       "      <td>NaN</td>\n",
       "      <td>NaN</td>\n",
       "      <td>NaN</td>\n",
       "      <td>NaN</td>\n",
       "      <td>NaN</td>\n",
       "      <td>NaN</td>\n",
       "      <td>NaN</td>\n",
       "      <td>NaN</td>\n",
       "      <td>NaN</td>\n",
       "      <td>NaN</td>\n",
       "    </tr>\n",
       "    <tr>\n",
       "      <th>16387</th>\n",
       "      <td>NaN</td>\n",
       "      <td>NaN</td>\n",
       "      <td>NaN</td>\n",
       "      <td>NaN</td>\n",
       "      <td>NaN</td>\n",
       "      <td>NaN</td>\n",
       "      <td>NaN</td>\n",
       "      <td>NaN</td>\n",
       "      <td>NaN</td>\n",
       "      <td>NaN</td>\n",
       "      <td>NaN</td>\n",
       "      <td>NaN</td>\n",
       "      <td>NaN</td>\n",
       "      <td>NaN</td>\n",
       "    </tr>\n",
       "    <tr>\n",
       "      <th>20876</th>\n",
       "      <td>NaN</td>\n",
       "      <td>NaN</td>\n",
       "      <td>NaN</td>\n",
       "      <td>NaN</td>\n",
       "      <td>NaN</td>\n",
       "      <td>NaN</td>\n",
       "      <td>NaN</td>\n",
       "      <td>NaN</td>\n",
       "      <td>NaN</td>\n",
       "      <td>NaN</td>\n",
       "      <td>NaN</td>\n",
       "      <td>NaN</td>\n",
       "      <td>NaN</td>\n",
       "      <td>NaN</td>\n",
       "    </tr>\n",
       "    <tr>\n",
       "      <th>13803</th>\n",
       "      <td>NaN</td>\n",
       "      <td>NaN</td>\n",
       "      <td>NaN</td>\n",
       "      <td>NaN</td>\n",
       "      <td>NaN</td>\n",
       "      <td>NaN</td>\n",
       "      <td>NaN</td>\n",
       "      <td>NaN</td>\n",
       "      <td>NaN</td>\n",
       "      <td>NaN</td>\n",
       "      <td>NaN</td>\n",
       "      <td>NaN</td>\n",
       "      <td>NaN</td>\n",
       "      <td>NaN</td>\n",
       "    </tr>\n",
       "  </tbody>\n",
       "</table>\n",
       "</div>"
      ],
      "text/plain": [
       "      Case Number Date  Year Type Country Area Location Activity Sex   Age  \\\n",
       "22207         NaN  NaN   NaN  NaN     NaN  NaN      NaN      NaN  NaN  NaN   \n",
       "22528         NaN  NaN   NaN  NaN     NaN  NaN      NaN      NaN  NaN  NaN   \n",
       "16387         NaN  NaN   NaN  NaN     NaN  NaN      NaN      NaN  NaN  NaN   \n",
       "20876         NaN  NaN   NaN  NaN     NaN  NaN      NaN      NaN  NaN  NaN   \n",
       "13803         NaN  NaN   NaN  NaN     NaN  NaN      NaN      NaN  NaN  NaN   \n",
       "\n",
       "      Injury Fatal (Y/N) Time Species   \n",
       "22207    NaN         NaN  NaN      NaN  \n",
       "22528    NaN         NaN  NaN      NaN  \n",
       "16387    NaN         NaN  NaN      NaN  \n",
       "20876    NaN         NaN  NaN      NaN  \n",
       "13803    NaN         NaN  NaN      NaN  "
      ]
     },
     "execution_count": 10,
     "metadata": {},
     "output_type": "execute_result"
    }
   ],
   "source": [
    "# Revisamos aquellas filas que tengan todos los valores NaN (no proporcionan información) y se eliminan:\n",
    "(tiburon2[tiburon2.duplicated()]).sample(5)"
   ]
  },
  {
   "cell_type": "code",
   "execution_count": 11,
   "id": "cdf5139d",
   "metadata": {},
   "outputs": [
    {
     "data": {
      "text/plain": [
       "19418"
      ]
     },
     "execution_count": 11,
     "metadata": {},
     "output_type": "execute_result"
    }
   ],
   "source": [
    "# El recuento de todas las filas duplicadas es:\n",
    "tiburon2.duplicated().sum()"
   ]
  },
  {
   "cell_type": "code",
   "execution_count": 12,
   "id": "f6bae0c7",
   "metadata": {},
   "outputs": [
    {
     "data": {
      "text/html": [
       "<div>\n",
       "<style scoped>\n",
       "    .dataframe tbody tr th:only-of-type {\n",
       "        vertical-align: middle;\n",
       "    }\n",
       "\n",
       "    .dataframe tbody tr th {\n",
       "        vertical-align: top;\n",
       "    }\n",
       "\n",
       "    .dataframe thead th {\n",
       "        text-align: right;\n",
       "    }\n",
       "</style>\n",
       "<table border=\"1\" class=\"dataframe\">\n",
       "  <thead>\n",
       "    <tr style=\"text-align: right;\">\n",
       "      <th></th>\n",
       "      <th>Case Number</th>\n",
       "      <th>Date</th>\n",
       "      <th>Year</th>\n",
       "      <th>Type</th>\n",
       "      <th>Country</th>\n",
       "      <th>Area</th>\n",
       "      <th>Location</th>\n",
       "      <th>Activity</th>\n",
       "      <th>Sex</th>\n",
       "      <th>Age</th>\n",
       "      <th>Injury</th>\n",
       "      <th>Fatal (Y/N)</th>\n",
       "      <th>Time</th>\n",
       "      <th>Species</th>\n",
       "    </tr>\n",
       "  </thead>\n",
       "  <tbody>\n",
       "    <tr>\n",
       "      <th>1572</th>\n",
       "      <td>2005.07.01</td>\n",
       "      <td>1-Jul-2005</td>\n",
       "      <td>2005.0</td>\n",
       "      <td>Unprovoked</td>\n",
       "      <td>USA</td>\n",
       "      <td>Florida</td>\n",
       "      <td>Boca Grande, Lee County</td>\n",
       "      <td>Standing</td>\n",
       "      <td>M</td>\n",
       "      <td>19</td>\n",
       "      <td>Ankle bitten</td>\n",
       "      <td>N</td>\n",
       "      <td>11h30</td>\n",
       "      <td>NaN</td>\n",
       "    </tr>\n",
       "    <tr>\n",
       "      <th>5247</th>\n",
       "      <td>1920.11.29</td>\n",
       "      <td>29-Nov-1920</td>\n",
       "      <td>1920.0</td>\n",
       "      <td>Unprovoked</td>\n",
       "      <td>AUSTRALIA</td>\n",
       "      <td>Western Australia</td>\n",
       "      <td>Bunbury</td>\n",
       "      <td>Wading</td>\n",
       "      <td>M</td>\n",
       "      <td>NaN</td>\n",
       "      <td>Lacerations to leg &amp; hand</td>\n",
       "      <td>N</td>\n",
       "      <td>NaN</td>\n",
       "      <td>4' to 5' shark</td>\n",
       "    </tr>\n",
       "    <tr>\n",
       "      <th>2581</th>\n",
       "      <td>1991.09.19</td>\n",
       "      <td>19-Sep-1991</td>\n",
       "      <td>1991.0</td>\n",
       "      <td>Invalid</td>\n",
       "      <td>BAHAMAS</td>\n",
       "      <td>NaN</td>\n",
       "      <td>Bimini</td>\n",
       "      <td>Spearfishing</td>\n",
       "      <td>M</td>\n",
       "      <td>32</td>\n",
       "      <td>Initally reported as a shark attack, forensic ...</td>\n",
       "      <td>NaN</td>\n",
       "      <td>17h00</td>\n",
       "      <td>Invalid</td>\n",
       "    </tr>\n",
       "    <tr>\n",
       "      <th>509</th>\n",
       "      <td>2014.08.27.c</td>\n",
       "      <td>27-Aug-2014</td>\n",
       "      <td>2014.0</td>\n",
       "      <td>Unprovoked</td>\n",
       "      <td>SPAIN</td>\n",
       "      <td>Alicante</td>\n",
       "      <td>Benidorm</td>\n",
       "      <td>Swimming</td>\n",
       "      <td>F</td>\n",
       "      <td>30s</td>\n",
       "      <td>Minor lacerations to posterior lower leg</td>\n",
       "      <td>N</td>\n",
       "      <td>NaN</td>\n",
       "      <td>small shark</td>\n",
       "    </tr>\n",
       "    <tr>\n",
       "      <th>6950</th>\n",
       "      <td>0</td>\n",
       "      <td>NaN</td>\n",
       "      <td>NaN</td>\n",
       "      <td>NaN</td>\n",
       "      <td>NaN</td>\n",
       "      <td>NaN</td>\n",
       "      <td>NaN</td>\n",
       "      <td>NaN</td>\n",
       "      <td>NaN</td>\n",
       "      <td>NaN</td>\n",
       "      <td>NaN</td>\n",
       "      <td>NaN</td>\n",
       "      <td>NaN</td>\n",
       "      <td>NaN</td>\n",
       "    </tr>\n",
       "  </tbody>\n",
       "</table>\n",
       "</div>"
      ],
      "text/plain": [
       "       Case Number         Date    Year        Type    Country  \\\n",
       "1572    2005.07.01   1-Jul-2005  2005.0  Unprovoked        USA   \n",
       "5247    1920.11.29  29-Nov-1920  1920.0  Unprovoked  AUSTRALIA   \n",
       "2581    1991.09.19  19-Sep-1991  1991.0     Invalid    BAHAMAS   \n",
       "509   2014.08.27.c  27-Aug-2014  2014.0  Unprovoked      SPAIN   \n",
       "6950             0          NaN     NaN         NaN        NaN   \n",
       "\n",
       "                   Area                 Location      Activity Sex   Age  \\\n",
       "1572            Florida  Boca Grande, Lee County      Standing    M   19   \n",
       "5247  Western Australia                  Bunbury        Wading    M  NaN   \n",
       "2581                NaN                   Bimini  Spearfishing    M   32   \n",
       "509            Alicante                 Benidorm      Swimming    F  30s   \n",
       "6950                NaN                      NaN           NaN  NaN  NaN   \n",
       "\n",
       "                                                 Injury Fatal (Y/N)   Time  \\\n",
       "1572                                       Ankle bitten           N  11h30   \n",
       "5247                          Lacerations to leg & hand           N    NaN   \n",
       "2581  Initally reported as a shark attack, forensic ...         NaN  17h00   \n",
       "509            Minor lacerations to posterior lower leg           N    NaN   \n",
       "6950                                                NaN         NaN    NaN   \n",
       "\n",
       "            Species   \n",
       "1572             NaN  \n",
       "5247  4' to 5' shark  \n",
       "2581         Invalid  \n",
       "509      small shark  \n",
       "6950             NaN  "
      ]
     },
     "execution_count": 12,
     "metadata": {},
     "output_type": "execute_result"
    }
   ],
   "source": [
    "# Eliminamos todas las filas que tengan NaN en todas las columnas\n",
    "tiburon3 = tiburon2.dropna(how='all')\n",
    "tiburon3.sample(5)"
   ]
  },
  {
   "cell_type": "code",
   "execution_count": 13,
   "id": "239f9fa0",
   "metadata": {},
   "outputs": [
    {
     "data": {
      "text/html": [
       "<div>\n",
       "<style scoped>\n",
       "    .dataframe tbody tr th:only-of-type {\n",
       "        vertical-align: middle;\n",
       "    }\n",
       "\n",
       "    .dataframe tbody tr th {\n",
       "        vertical-align: top;\n",
       "    }\n",
       "\n",
       "    .dataframe thead th {\n",
       "        text-align: right;\n",
       "    }\n",
       "</style>\n",
       "<table border=\"1\" class=\"dataframe\">\n",
       "  <thead>\n",
       "    <tr style=\"text-align: right;\">\n",
       "      <th></th>\n",
       "      <th>Case Number</th>\n",
       "      <th>Date</th>\n",
       "      <th>Year</th>\n",
       "      <th>Type</th>\n",
       "      <th>Country</th>\n",
       "      <th>Area</th>\n",
       "      <th>Location</th>\n",
       "      <th>Activity</th>\n",
       "      <th>Sex</th>\n",
       "      <th>Age</th>\n",
       "      <th>Injury</th>\n",
       "      <th>Fatal (Y/N)</th>\n",
       "      <th>Time</th>\n",
       "      <th>Species</th>\n",
       "    </tr>\n",
       "  </thead>\n",
       "  <tbody>\n",
       "    <tr>\n",
       "      <th>8311</th>\n",
       "      <td>0</td>\n",
       "      <td>NaN</td>\n",
       "      <td>NaN</td>\n",
       "      <td>NaN</td>\n",
       "      <td>NaN</td>\n",
       "      <td>NaN</td>\n",
       "      <td>NaN</td>\n",
       "      <td>NaN</td>\n",
       "      <td>NaN</td>\n",
       "      <td>NaN</td>\n",
       "      <td>NaN</td>\n",
       "      <td>NaN</td>\n",
       "      <td>NaN</td>\n",
       "      <td>NaN</td>\n",
       "    </tr>\n",
       "    <tr>\n",
       "      <th>8215</th>\n",
       "      <td>0</td>\n",
       "      <td>NaN</td>\n",
       "      <td>NaN</td>\n",
       "      <td>NaN</td>\n",
       "      <td>NaN</td>\n",
       "      <td>NaN</td>\n",
       "      <td>NaN</td>\n",
       "      <td>NaN</td>\n",
       "      <td>NaN</td>\n",
       "      <td>NaN</td>\n",
       "      <td>NaN</td>\n",
       "      <td>NaN</td>\n",
       "      <td>NaN</td>\n",
       "      <td>NaN</td>\n",
       "    </tr>\n",
       "    <tr>\n",
       "      <th>7334</th>\n",
       "      <td>0</td>\n",
       "      <td>NaN</td>\n",
       "      <td>NaN</td>\n",
       "      <td>NaN</td>\n",
       "      <td>NaN</td>\n",
       "      <td>NaN</td>\n",
       "      <td>NaN</td>\n",
       "      <td>NaN</td>\n",
       "      <td>NaN</td>\n",
       "      <td>NaN</td>\n",
       "      <td>NaN</td>\n",
       "      <td>NaN</td>\n",
       "      <td>NaN</td>\n",
       "      <td>NaN</td>\n",
       "    </tr>\n",
       "    <tr>\n",
       "      <th>7780</th>\n",
       "      <td>0</td>\n",
       "      <td>NaN</td>\n",
       "      <td>NaN</td>\n",
       "      <td>NaN</td>\n",
       "      <td>NaN</td>\n",
       "      <td>NaN</td>\n",
       "      <td>NaN</td>\n",
       "      <td>NaN</td>\n",
       "      <td>NaN</td>\n",
       "      <td>NaN</td>\n",
       "      <td>NaN</td>\n",
       "      <td>NaN</td>\n",
       "      <td>NaN</td>\n",
       "      <td>NaN</td>\n",
       "    </tr>\n",
       "    <tr>\n",
       "      <th>8061</th>\n",
       "      <td>0</td>\n",
       "      <td>NaN</td>\n",
       "      <td>NaN</td>\n",
       "      <td>NaN</td>\n",
       "      <td>NaN</td>\n",
       "      <td>NaN</td>\n",
       "      <td>NaN</td>\n",
       "      <td>NaN</td>\n",
       "      <td>NaN</td>\n",
       "      <td>NaN</td>\n",
       "      <td>NaN</td>\n",
       "      <td>NaN</td>\n",
       "      <td>NaN</td>\n",
       "      <td>NaN</td>\n",
       "    </tr>\n",
       "  </tbody>\n",
       "</table>\n",
       "</div>"
      ],
      "text/plain": [
       "     Case Number Date  Year Type Country Area Location Activity Sex   Age  \\\n",
       "8311           0  NaN   NaN  NaN     NaN  NaN      NaN      NaN  NaN  NaN   \n",
       "8215           0  NaN   NaN  NaN     NaN  NaN      NaN      NaN  NaN  NaN   \n",
       "7334           0  NaN   NaN  NaN     NaN  NaN      NaN      NaN  NaN  NaN   \n",
       "7780           0  NaN   NaN  NaN     NaN  NaN      NaN      NaN  NaN  NaN   \n",
       "8061           0  NaN   NaN  NaN     NaN  NaN      NaN      NaN  NaN  NaN   \n",
       "\n",
       "     Injury Fatal (Y/N) Time Species   \n",
       "8311    NaN         NaN  NaN      NaN  \n",
       "8215    NaN         NaN  NaN      NaN  \n",
       "7334    NaN         NaN  NaN      NaN  \n",
       "7780    NaN         NaN  NaN      NaN  \n",
       "8061    NaN         NaN  NaN      NaN  "
      ]
     },
     "execution_count": 13,
     "metadata": {},
     "output_type": "execute_result"
    }
   ],
   "source": [
    "'''\n",
    "Después de eliminar todas las filas que tienen todo NaN, reviso aquellas filas que puedan estar duplicadas.\n",
    "La información obtenida es que todo son NaN excepto el Case Number que es = 0, por tanto, tampoco es información útil para el \n",
    "estudio y se pueden eliminar.\n",
    "'''\n",
    "(tiburon3[tiburon3.duplicated()]).sample(5)"
   ]
  },
  {
   "cell_type": "code",
   "execution_count": 14,
   "id": "b1f45fa0",
   "metadata": {
    "scrolled": false
   },
   "outputs": [
    {
     "data": {
      "text/html": [
       "<div>\n",
       "<style scoped>\n",
       "    .dataframe tbody tr th:only-of-type {\n",
       "        vertical-align: middle;\n",
       "    }\n",
       "\n",
       "    .dataframe tbody tr th {\n",
       "        vertical-align: top;\n",
       "    }\n",
       "\n",
       "    .dataframe thead th {\n",
       "        text-align: right;\n",
       "    }\n",
       "</style>\n",
       "<table border=\"1\" class=\"dataframe\">\n",
       "  <thead>\n",
       "    <tr style=\"text-align: right;\">\n",
       "      <th></th>\n",
       "      <th>Case Number</th>\n",
       "      <th>Date</th>\n",
       "      <th>Year</th>\n",
       "      <th>Type</th>\n",
       "      <th>Country</th>\n",
       "      <th>Area</th>\n",
       "      <th>Location</th>\n",
       "      <th>Activity</th>\n",
       "      <th>Sex</th>\n",
       "      <th>Age</th>\n",
       "      <th>Injury</th>\n",
       "      <th>Fatal (Y/N)</th>\n",
       "      <th>Time</th>\n",
       "      <th>Species</th>\n",
       "    </tr>\n",
       "  </thead>\n",
       "  <tbody>\n",
       "    <tr>\n",
       "      <th>6299</th>\n",
       "      <td>ND.0003</td>\n",
       "      <td>1900-1905</td>\n",
       "      <td>0.0</td>\n",
       "      <td>Unprovoked</td>\n",
       "      <td>USA</td>\n",
       "      <td>North Carolina</td>\n",
       "      <td>Ocracoke Inlet</td>\n",
       "      <td>Swimming</td>\n",
       "      <td>M</td>\n",
       "      <td>NaN</td>\n",
       "      <td>FATAL</td>\n",
       "      <td>Y</td>\n",
       "      <td>NaN</td>\n",
       "      <td>NaN</td>\n",
       "    </tr>\n",
       "    <tr>\n",
       "      <th>6300</th>\n",
       "      <td>ND.0002</td>\n",
       "      <td>1883-1889</td>\n",
       "      <td>0.0</td>\n",
       "      <td>Unprovoked</td>\n",
       "      <td>PANAMA</td>\n",
       "      <td>NaN</td>\n",
       "      <td>Panama Bay 8ºN, 79ºW</td>\n",
       "      <td>NaN</td>\n",
       "      <td>M</td>\n",
       "      <td>NaN</td>\n",
       "      <td>FATAL</td>\n",
       "      <td>Y</td>\n",
       "      <td>NaN</td>\n",
       "      <td>NaN</td>\n",
       "    </tr>\n",
       "    <tr>\n",
       "      <th>6301</th>\n",
       "      <td>ND.0001</td>\n",
       "      <td>1845-1853</td>\n",
       "      <td>0.0</td>\n",
       "      <td>Unprovoked</td>\n",
       "      <td>CEYLON (SRI LANKA)</td>\n",
       "      <td>Eastern Province</td>\n",
       "      <td>Below the English fort, Trincomalee</td>\n",
       "      <td>Swimming</td>\n",
       "      <td>M</td>\n",
       "      <td>15</td>\n",
       "      <td>FATAL. \"Shark bit him in half, carrying away t...</td>\n",
       "      <td>Y</td>\n",
       "      <td>NaN</td>\n",
       "      <td>NaN</td>\n",
       "    </tr>\n",
       "    <tr>\n",
       "      <th>6302</th>\n",
       "      <td>0</td>\n",
       "      <td>NaN</td>\n",
       "      <td>NaN</td>\n",
       "      <td>NaN</td>\n",
       "      <td>NaN</td>\n",
       "      <td>NaN</td>\n",
       "      <td>NaN</td>\n",
       "      <td>NaN</td>\n",
       "      <td>NaN</td>\n",
       "      <td>NaN</td>\n",
       "      <td>NaN</td>\n",
       "      <td>NaN</td>\n",
       "      <td>NaN</td>\n",
       "      <td>NaN</td>\n",
       "    </tr>\n",
       "    <tr>\n",
       "      <th>25722</th>\n",
       "      <td>xx</td>\n",
       "      <td>NaN</td>\n",
       "      <td>NaN</td>\n",
       "      <td>NaN</td>\n",
       "      <td>NaN</td>\n",
       "      <td>NaN</td>\n",
       "      <td>NaN</td>\n",
       "      <td>NaN</td>\n",
       "      <td>NaN</td>\n",
       "      <td>NaN</td>\n",
       "      <td>NaN</td>\n",
       "      <td>NaN</td>\n",
       "      <td>NaN</td>\n",
       "      <td>NaN</td>\n",
       "    </tr>\n",
       "  </tbody>\n",
       "</table>\n",
       "</div>"
      ],
      "text/plain": [
       "      Case Number       Date  Year        Type             Country  \\\n",
       "6299      ND.0003  1900-1905   0.0  Unprovoked                 USA   \n",
       "6300      ND.0002  1883-1889   0.0  Unprovoked              PANAMA   \n",
       "6301      ND.0001  1845-1853   0.0  Unprovoked  CEYLON (SRI LANKA)   \n",
       "6302            0        NaN   NaN         NaN                 NaN   \n",
       "25722          xx        NaN   NaN         NaN                 NaN   \n",
       "\n",
       "                   Area                             Location  Activity Sex   \\\n",
       "6299     North Carolina                       Ocracoke Inlet  Swimming    M   \n",
       "6300                NaN                 Panama Bay 8ºN, 79ºW       NaN    M   \n",
       "6301   Eastern Province  Below the English fort, Trincomalee  Swimming    M   \n",
       "6302                NaN                                  NaN       NaN  NaN   \n",
       "25722               NaN                                  NaN       NaN  NaN   \n",
       "\n",
       "       Age                                             Injury Fatal (Y/N)  \\\n",
       "6299   NaN                                              FATAL           Y   \n",
       "6300   NaN                                              FATAL           Y   \n",
       "6301    15  FATAL. \"Shark bit him in half, carrying away t...           Y   \n",
       "6302   NaN                                                NaN         NaN   \n",
       "25722  NaN                                                NaN         NaN   \n",
       "\n",
       "      Time Species   \n",
       "6299   NaN      NaN  \n",
       "6300   NaN      NaN  \n",
       "6301   NaN      NaN  \n",
       "6302   NaN      NaN  \n",
       "25722  NaN      NaN  "
      ]
     },
     "execution_count": 14,
     "metadata": {},
     "output_type": "execute_result"
    }
   ],
   "source": [
    "tiburon4 = tiburon3.drop_duplicates()\n",
    "tiburon4.tail(5)"
   ]
  },
  {
   "cell_type": "code",
   "execution_count": 15,
   "id": "1839ad44",
   "metadata": {},
   "outputs": [
    {
     "data": {
      "text/html": [
       "<div>\n",
       "<style scoped>\n",
       "    .dataframe tbody tr th:only-of-type {\n",
       "        vertical-align: middle;\n",
       "    }\n",
       "\n",
       "    .dataframe tbody tr th {\n",
       "        vertical-align: top;\n",
       "    }\n",
       "\n",
       "    .dataframe thead th {\n",
       "        text-align: right;\n",
       "    }\n",
       "</style>\n",
       "<table border=\"1\" class=\"dataframe\">\n",
       "  <thead>\n",
       "    <tr style=\"text-align: right;\">\n",
       "      <th></th>\n",
       "      <th>Case Number</th>\n",
       "      <th>Date</th>\n",
       "      <th>Year</th>\n",
       "      <th>Type</th>\n",
       "      <th>Country</th>\n",
       "      <th>Area</th>\n",
       "      <th>Location</th>\n",
       "      <th>Activity</th>\n",
       "      <th>Sex</th>\n",
       "      <th>Age</th>\n",
       "      <th>Injury</th>\n",
       "      <th>Fatal (Y/N)</th>\n",
       "      <th>Time</th>\n",
       "      <th>Species</th>\n",
       "    </tr>\n",
       "  </thead>\n",
       "  <tbody>\n",
       "    <tr>\n",
       "      <th>6299</th>\n",
       "      <td>ND.0003</td>\n",
       "      <td>1900-1905</td>\n",
       "      <td>0.0</td>\n",
       "      <td>Unprovoked</td>\n",
       "      <td>USA</td>\n",
       "      <td>North Carolina</td>\n",
       "      <td>Ocracoke Inlet</td>\n",
       "      <td>Swimming</td>\n",
       "      <td>M</td>\n",
       "      <td>NaN</td>\n",
       "      <td>FATAL</td>\n",
       "      <td>Y</td>\n",
       "      <td>NaN</td>\n",
       "      <td>NaN</td>\n",
       "    </tr>\n",
       "    <tr>\n",
       "      <th>6300</th>\n",
       "      <td>ND.0002</td>\n",
       "      <td>1883-1889</td>\n",
       "      <td>0.0</td>\n",
       "      <td>Unprovoked</td>\n",
       "      <td>PANAMA</td>\n",
       "      <td>NaN</td>\n",
       "      <td>Panama Bay 8ºN, 79ºW</td>\n",
       "      <td>NaN</td>\n",
       "      <td>M</td>\n",
       "      <td>NaN</td>\n",
       "      <td>FATAL</td>\n",
       "      <td>Y</td>\n",
       "      <td>NaN</td>\n",
       "      <td>NaN</td>\n",
       "    </tr>\n",
       "    <tr>\n",
       "      <th>6301</th>\n",
       "      <td>ND.0001</td>\n",
       "      <td>1845-1853</td>\n",
       "      <td>0.0</td>\n",
       "      <td>Unprovoked</td>\n",
       "      <td>CEYLON (SRI LANKA)</td>\n",
       "      <td>Eastern Province</td>\n",
       "      <td>Below the English fort, Trincomalee</td>\n",
       "      <td>Swimming</td>\n",
       "      <td>M</td>\n",
       "      <td>15</td>\n",
       "      <td>FATAL. \"Shark bit him in half, carrying away t...</td>\n",
       "      <td>Y</td>\n",
       "      <td>NaN</td>\n",
       "      <td>NaN</td>\n",
       "    </tr>\n",
       "  </tbody>\n",
       "</table>\n",
       "</div>"
      ],
      "text/plain": [
       "     Case Number       Date  Year        Type             Country  \\\n",
       "6299     ND.0003  1900-1905   0.0  Unprovoked                 USA   \n",
       "6300     ND.0002  1883-1889   0.0  Unprovoked              PANAMA   \n",
       "6301     ND.0001  1845-1853   0.0  Unprovoked  CEYLON (SRI LANKA)   \n",
       "\n",
       "                  Area                             Location  Activity Sex   \\\n",
       "6299    North Carolina                       Ocracoke Inlet  Swimming    M   \n",
       "6300               NaN                 Panama Bay 8ºN, 79ºW       NaN    M   \n",
       "6301  Eastern Province  Below the English fort, Trincomalee  Swimming    M   \n",
       "\n",
       "      Age                                             Injury Fatal (Y/N) Time  \\\n",
       "6299  NaN                                              FATAL           Y  NaN   \n",
       "6300  NaN                                              FATAL           Y  NaN   \n",
       "6301   15  FATAL. \"Shark bit him in half, carrying away t...           Y  NaN   \n",
       "\n",
       "     Species   \n",
       "6299      NaN  \n",
       "6300      NaN  \n",
       "6301      NaN  "
      ]
     },
     "execution_count": 15,
     "metadata": {},
     "output_type": "execute_result"
    }
   ],
   "source": [
    "# Se eliminan las filas en las que todo es NaN y el 'Case Number' es igual a 0 y a xx (son las dos últimas filas)\n",
    "tiburon5 = tiburon4.drop([6302, 25722], axis = 0)\n",
    "tiburon5.tail(3)"
   ]
  },
  {
   "cell_type": "code",
   "execution_count": 16,
   "id": "674b80f1",
   "metadata": {
    "scrolled": false
   },
   "outputs": [
    {
     "data": {
      "text/html": [
       "<div>\n",
       "<style scoped>\n",
       "    .dataframe tbody tr th:only-of-type {\n",
       "        vertical-align: middle;\n",
       "    }\n",
       "\n",
       "    .dataframe tbody tr th {\n",
       "        vertical-align: top;\n",
       "    }\n",
       "\n",
       "    .dataframe thead th {\n",
       "        text-align: right;\n",
       "    }\n",
       "</style>\n",
       "<table border=\"1\" class=\"dataframe\">\n",
       "  <thead>\n",
       "    <tr style=\"text-align: right;\">\n",
       "      <th></th>\n",
       "      <th>Case Number</th>\n",
       "      <th>Date</th>\n",
       "      <th>Year</th>\n",
       "      <th>Type</th>\n",
       "      <th>Country</th>\n",
       "      <th>Area</th>\n",
       "      <th>Location</th>\n",
       "      <th>Activity</th>\n",
       "      <th>Sex</th>\n",
       "      <th>Age</th>\n",
       "      <th>Injury</th>\n",
       "      <th>Fatal (Y/N)</th>\n",
       "      <th>Time</th>\n",
       "      <th>Species</th>\n",
       "    </tr>\n",
       "  </thead>\n",
       "  <tbody>\n",
       "  </tbody>\n",
       "</table>\n",
       "</div>"
      ],
      "text/plain": [
       "Empty DataFrame\n",
       "Columns: [Case Number, Date, Year, Type, Country, Area, Location, Activity, Sex , Age, Injury, Fatal (Y/N), Time, Species ]\n",
       "Index: []"
      ]
     },
     "execution_count": 16,
     "metadata": {},
     "output_type": "execute_result"
    }
   ],
   "source": [
    "# Ya no hay filas con elementos duplicados.\n",
    "(tiburon5[tiburon5.duplicated()])"
   ]
  },
  {
   "cell_type": "code",
   "execution_count": 17,
   "id": "07887cbe",
   "metadata": {
    "scrolled": true
   },
   "outputs": [
    {
     "data": {
      "text/html": [
       "<div>\n",
       "<style scoped>\n",
       "    .dataframe tbody tr th:only-of-type {\n",
       "        vertical-align: middle;\n",
       "    }\n",
       "\n",
       "    .dataframe tbody tr th {\n",
       "        vertical-align: top;\n",
       "    }\n",
       "\n",
       "    .dataframe thead th {\n",
       "        text-align: right;\n",
       "    }\n",
       "</style>\n",
       "<table border=\"1\" class=\"dataframe\">\n",
       "  <thead>\n",
       "    <tr style=\"text-align: right;\">\n",
       "      <th></th>\n",
       "      <th>case number</th>\n",
       "      <th>date</th>\n",
       "      <th>year</th>\n",
       "      <th>type</th>\n",
       "      <th>country</th>\n",
       "      <th>area</th>\n",
       "      <th>location</th>\n",
       "      <th>activity</th>\n",
       "      <th>sex</th>\n",
       "      <th>age</th>\n",
       "      <th>injury</th>\n",
       "      <th>fatal (y/n)</th>\n",
       "      <th>time</th>\n",
       "      <th>species</th>\n",
       "    </tr>\n",
       "  </thead>\n",
       "  <tbody>\n",
       "    <tr>\n",
       "      <th>0</th>\n",
       "      <td>2018.06.25</td>\n",
       "      <td>25-Jun-2018</td>\n",
       "      <td>2018.0</td>\n",
       "      <td>Boating</td>\n",
       "      <td>USA</td>\n",
       "      <td>California</td>\n",
       "      <td>Oceanside, San Diego County</td>\n",
       "      <td>Paddling</td>\n",
       "      <td>F</td>\n",
       "      <td>57</td>\n",
       "      <td>No injury to occupant, outrigger canoe and pad...</td>\n",
       "      <td>N</td>\n",
       "      <td>18h00</td>\n",
       "      <td>White shark</td>\n",
       "    </tr>\n",
       "    <tr>\n",
       "      <th>1</th>\n",
       "      <td>2018.06.18</td>\n",
       "      <td>18-Jun-2018</td>\n",
       "      <td>2018.0</td>\n",
       "      <td>Unprovoked</td>\n",
       "      <td>USA</td>\n",
       "      <td>Georgia</td>\n",
       "      <td>St. Simon Island, Glynn County</td>\n",
       "      <td>Standing</td>\n",
       "      <td>F</td>\n",
       "      <td>11</td>\n",
       "      <td>Minor injury to left thigh</td>\n",
       "      <td>N</td>\n",
       "      <td>14h00  -15h00</td>\n",
       "      <td>NaN</td>\n",
       "    </tr>\n",
       "  </tbody>\n",
       "</table>\n",
       "</div>"
      ],
      "text/plain": [
       "  case number         date    year        type country        area  \\\n",
       "0  2018.06.25  25-Jun-2018  2018.0     Boating     USA  California   \n",
       "1  2018.06.18  18-Jun-2018  2018.0  Unprovoked     USA     Georgia   \n",
       "\n",
       "                         location  activity sex  age  \\\n",
       "0     Oceanside, San Diego County  Paddling    F  57   \n",
       "1  St. Simon Island, Glynn County  Standing    F  11   \n",
       "\n",
       "                                              injury fatal (y/n)  \\\n",
       "0  No injury to occupant, outrigger canoe and pad...           N   \n",
       "1                         Minor injury to left thigh           N   \n",
       "\n",
       "            time     species   \n",
       "0          18h00  White shark  \n",
       "1  14h00  -15h00          NaN  "
      ]
     },
     "execution_count": 17,
     "metadata": {},
     "output_type": "execute_result"
    }
   ],
   "source": [
    "# Paso a minúscula todos los nombres de las columnas y cambio el nombre de dos de ellas para eliminar carácteres especiales.\n",
    "tiburon5.columns = map(str.lower, tiburon5.columns)\n",
    "tiburon5.head(2)"
   ]
  },
  {
   "cell_type": "code",
   "execution_count": 18,
   "id": "96752580",
   "metadata": {},
   "outputs": [
    {
     "data": {
      "text/plain": [
       "['case',\n",
       " 'date',\n",
       " 'year',\n",
       " 'type',\n",
       " 'country',\n",
       " 'area',\n",
       " 'location',\n",
       " 'activity',\n",
       " 'sex',\n",
       " 'age',\n",
       " 'injury',\n",
       " 'fatal',\n",
       " 'time',\n",
       " 'species']"
      ]
     },
     "execution_count": 18,
     "metadata": {},
     "output_type": "execute_result"
    }
   ],
   "source": [
    "tiburon6 = tiburon5.rename(columns = {'case number':'case',\n",
    "                                     'fatal (y/n)':'fatal',\n",
    "                                     'sex ':'sex',\n",
    "                                     'species ': 'species'})\n",
    "tiburon6.columns.tolist()"
   ]
  },
  {
   "cell_type": "code",
   "execution_count": 19,
   "id": "132175d2",
   "metadata": {},
   "outputs": [],
   "source": [
    "# Antes de plantear las hipótesis, he decidido mirar dentro de cada columna sus valores únicos para ver que hay en cada una. "
   ]
  },
  {
   "cell_type": "code",
   "execution_count": 20,
   "id": "13c28a5a",
   "metadata": {
    "scrolled": true
   },
   "outputs": [],
   "source": [
    "# tiburon6['fatal'].unique().tolist()"
   ]
  },
  {
   "cell_type": "markdown",
   "id": "3d98417c",
   "metadata": {},
   "source": [
    "\n",
    "## HIPÓTESIS\n",
    "\n",
    "* El sexo masculino ha sufrido más ataques de tiburón.\n",
    "\n",
    "* El tiburón blanco es el más peligroso.\n",
    "\n",
    "* Hay más ataques de tiburón provocados.\n"
   ]
  },
  {
   "cell_type": "code",
   "execution_count": 21,
   "id": "97233576",
   "metadata": {},
   "outputs": [
    {
     "data": {
      "text/plain": [
       "\"\\nDespués de revisar todos los datos de cada columna y plantear las hipótesis, hay ciertas columnas que no son relevantes\\npara llegar a las conclusiones, por lo que se van a eliminar. Son las siguientes:\\n'case', 'date', 'area', 'location', 'injury', 'time'\\nLas variables 'year', 'activity' y 'country', en principio no son necesarias para el estudio de las hipótesis pero se mantendrán por que\\npodrían proporcionar información relevante en cuanto a localización o tiempo de los ataques.\\n\""
      ]
     },
     "execution_count": 21,
     "metadata": {},
     "output_type": "execute_result"
    }
   ],
   "source": [
    "'''\n",
    "Después de revisar todos los datos de cada columna y plantear las hipótesis, hay ciertas columnas que no son relevantes\n",
    "para llegar a las conclusiones, por lo que se van a eliminar. Son las siguientes:\n",
    "'case', 'date', 'area', 'location', 'injury', 'time'\n",
    "Las variables 'year', 'activity' y 'country', en principio no son necesarias para el estudio de las hipótesis pero se mantendrán por que\n",
    "podrían proporcionar información relevante en cuanto a localización o tiempo de los ataques.\n",
    "'''"
   ]
  },
  {
   "cell_type": "code",
   "execution_count": 22,
   "id": "1387cade",
   "metadata": {},
   "outputs": [
    {
     "data": {
      "text/html": [
       "<div>\n",
       "<style scoped>\n",
       "    .dataframe tbody tr th:only-of-type {\n",
       "        vertical-align: middle;\n",
       "    }\n",
       "\n",
       "    .dataframe tbody tr th {\n",
       "        vertical-align: top;\n",
       "    }\n",
       "\n",
       "    .dataframe thead th {\n",
       "        text-align: right;\n",
       "    }\n",
       "</style>\n",
       "<table border=\"1\" class=\"dataframe\">\n",
       "  <thead>\n",
       "    <tr style=\"text-align: right;\">\n",
       "      <th></th>\n",
       "      <th>year</th>\n",
       "      <th>type</th>\n",
       "      <th>country</th>\n",
       "      <th>activity</th>\n",
       "      <th>sex</th>\n",
       "      <th>fatal</th>\n",
       "      <th>species</th>\n",
       "    </tr>\n",
       "  </thead>\n",
       "  <tbody>\n",
       "    <tr>\n",
       "      <th>0</th>\n",
       "      <td>2018.0</td>\n",
       "      <td>Boating</td>\n",
       "      <td>USA</td>\n",
       "      <td>Paddling</td>\n",
       "      <td>F</td>\n",
       "      <td>N</td>\n",
       "      <td>White shark</td>\n",
       "    </tr>\n",
       "    <tr>\n",
       "      <th>1</th>\n",
       "      <td>2018.0</td>\n",
       "      <td>Unprovoked</td>\n",
       "      <td>USA</td>\n",
       "      <td>Standing</td>\n",
       "      <td>F</td>\n",
       "      <td>N</td>\n",
       "      <td>NaN</td>\n",
       "    </tr>\n",
       "    <tr>\n",
       "      <th>2</th>\n",
       "      <td>2018.0</td>\n",
       "      <td>Invalid</td>\n",
       "      <td>USA</td>\n",
       "      <td>Surfing</td>\n",
       "      <td>M</td>\n",
       "      <td>N</td>\n",
       "      <td>NaN</td>\n",
       "    </tr>\n",
       "    <tr>\n",
       "      <th>3</th>\n",
       "      <td>2018.0</td>\n",
       "      <td>Unprovoked</td>\n",
       "      <td>AUSTRALIA</td>\n",
       "      <td>Surfing</td>\n",
       "      <td>M</td>\n",
       "      <td>N</td>\n",
       "      <td>2 m shark</td>\n",
       "    </tr>\n",
       "    <tr>\n",
       "      <th>4</th>\n",
       "      <td>2018.0</td>\n",
       "      <td>Provoked</td>\n",
       "      <td>MEXICO</td>\n",
       "      <td>Free diving</td>\n",
       "      <td>M</td>\n",
       "      <td>N</td>\n",
       "      <td>Tiger shark, 3m</td>\n",
       "    </tr>\n",
       "    <tr>\n",
       "      <th>...</th>\n",
       "      <td>...</td>\n",
       "      <td>...</td>\n",
       "      <td>...</td>\n",
       "      <td>...</td>\n",
       "      <td>...</td>\n",
       "      <td>...</td>\n",
       "      <td>...</td>\n",
       "    </tr>\n",
       "    <tr>\n",
       "      <th>6297</th>\n",
       "      <td>0.0</td>\n",
       "      <td>Unprovoked</td>\n",
       "      <td>AUSTRALIA</td>\n",
       "      <td>Diving</td>\n",
       "      <td>M</td>\n",
       "      <td>Y</td>\n",
       "      <td>NaN</td>\n",
       "    </tr>\n",
       "    <tr>\n",
       "      <th>6298</th>\n",
       "      <td>0.0</td>\n",
       "      <td>Unprovoked</td>\n",
       "      <td>AUSTRALIA</td>\n",
       "      <td>Pearl diving</td>\n",
       "      <td>M</td>\n",
       "      <td>Y</td>\n",
       "      <td>NaN</td>\n",
       "    </tr>\n",
       "    <tr>\n",
       "      <th>6299</th>\n",
       "      <td>0.0</td>\n",
       "      <td>Unprovoked</td>\n",
       "      <td>USA</td>\n",
       "      <td>Swimming</td>\n",
       "      <td>M</td>\n",
       "      <td>Y</td>\n",
       "      <td>NaN</td>\n",
       "    </tr>\n",
       "    <tr>\n",
       "      <th>6300</th>\n",
       "      <td>0.0</td>\n",
       "      <td>Unprovoked</td>\n",
       "      <td>PANAMA</td>\n",
       "      <td>NaN</td>\n",
       "      <td>M</td>\n",
       "      <td>Y</td>\n",
       "      <td>NaN</td>\n",
       "    </tr>\n",
       "    <tr>\n",
       "      <th>6301</th>\n",
       "      <td>0.0</td>\n",
       "      <td>Unprovoked</td>\n",
       "      <td>CEYLON (SRI LANKA)</td>\n",
       "      <td>Swimming</td>\n",
       "      <td>M</td>\n",
       "      <td>Y</td>\n",
       "      <td>NaN</td>\n",
       "    </tr>\n",
       "  </tbody>\n",
       "</table>\n",
       "<p>6302 rows × 7 columns</p>\n",
       "</div>"
      ],
      "text/plain": [
       "        year        type             country      activity sex fatal  \\\n",
       "0     2018.0     Boating                 USA      Paddling   F     N   \n",
       "1     2018.0  Unprovoked                 USA      Standing   F     N   \n",
       "2     2018.0     Invalid                 USA       Surfing   M     N   \n",
       "3     2018.0  Unprovoked           AUSTRALIA       Surfing   M     N   \n",
       "4     2018.0    Provoked              MEXICO   Free diving   M     N   \n",
       "...      ...         ...                 ...           ...  ..   ...   \n",
       "6297     0.0  Unprovoked           AUSTRALIA        Diving   M     Y   \n",
       "6298     0.0  Unprovoked           AUSTRALIA  Pearl diving   M     Y   \n",
       "6299     0.0  Unprovoked                 USA      Swimming   M     Y   \n",
       "6300     0.0  Unprovoked              PANAMA           NaN   M     Y   \n",
       "6301     0.0  Unprovoked  CEYLON (SRI LANKA)      Swimming   M     Y   \n",
       "\n",
       "              species  \n",
       "0         White shark  \n",
       "1                 NaN  \n",
       "2                 NaN  \n",
       "3           2 m shark  \n",
       "4     Tiger shark, 3m  \n",
       "...               ...  \n",
       "6297              NaN  \n",
       "6298              NaN  \n",
       "6299              NaN  \n",
       "6300              NaN  \n",
       "6301              NaN  \n",
       "\n",
       "[6302 rows x 7 columns]"
      ]
     },
     "execution_count": 22,
     "metadata": {},
     "output_type": "execute_result"
    }
   ],
   "source": [
    "tiburon7 = tiburon6.drop(['case', 'date', 'area', 'location', 'age', 'injury', 'time'], axis=1)\n",
    "tiburon7"
   ]
  },
  {
   "cell_type": "code",
   "execution_count": 23,
   "id": "8d56c402",
   "metadata": {},
   "outputs": [
    {
     "data": {
      "text/plain": [
       "year           2\n",
       "type           4\n",
       "country       50\n",
       "activity     544\n",
       "sex          565\n",
       "fatal        539\n",
       "species     2838\n",
       "dtype: int64"
      ]
     },
     "execution_count": 23,
     "metadata": {},
     "output_type": "execute_result"
    }
   ],
   "source": [
    "# Aún hay NaNs en algunas columnas. Voy a ver cuantos y a reemplazarlos por 'Unknown'\n",
    "tiburon7.isnull().sum()"
   ]
  },
  {
   "cell_type": "code",
   "execution_count": 24,
   "id": "00412582",
   "metadata": {},
   "outputs": [
    {
     "data": {
      "text/html": [
       "<div>\n",
       "<style scoped>\n",
       "    .dataframe tbody tr th:only-of-type {\n",
       "        vertical-align: middle;\n",
       "    }\n",
       "\n",
       "    .dataframe tbody tr th {\n",
       "        vertical-align: top;\n",
       "    }\n",
       "\n",
       "    .dataframe thead th {\n",
       "        text-align: right;\n",
       "    }\n",
       "</style>\n",
       "<table border=\"1\" class=\"dataframe\">\n",
       "  <thead>\n",
       "    <tr style=\"text-align: right;\">\n",
       "      <th></th>\n",
       "      <th>year</th>\n",
       "      <th>type</th>\n",
       "      <th>country</th>\n",
       "      <th>activity</th>\n",
       "      <th>sex</th>\n",
       "      <th>fatal</th>\n",
       "      <th>species</th>\n",
       "    </tr>\n",
       "  </thead>\n",
       "  <tbody>\n",
       "    <tr>\n",
       "      <th>1441</th>\n",
       "      <td>2006.0</td>\n",
       "      <td>Invalid</td>\n",
       "      <td>BRAZIL</td>\n",
       "      <td>Unknown</td>\n",
       "      <td>M</td>\n",
       "      <td>Unknown</td>\n",
       "      <td>Shark involvement prior to death was not confi...</td>\n",
       "    </tr>\n",
       "    <tr>\n",
       "      <th>3630</th>\n",
       "      <td>1965.0</td>\n",
       "      <td>Unprovoked</td>\n",
       "      <td>USA</td>\n",
       "      <td>Spearfishing</td>\n",
       "      <td>M</td>\n",
       "      <td>N</td>\n",
       "      <td>White shark, 10' to 12'</td>\n",
       "    </tr>\n",
       "    <tr>\n",
       "      <th>929</th>\n",
       "      <td>2011.0</td>\n",
       "      <td>Unprovoked</td>\n",
       "      <td>AUSTRALIA</td>\n",
       "      <td>Washing sand off a speared fish</td>\n",
       "      <td>M</td>\n",
       "      <td>N</td>\n",
       "      <td>reef shark, 1.5m</td>\n",
       "    </tr>\n",
       "    <tr>\n",
       "      <th>5264</th>\n",
       "      <td>1919.0</td>\n",
       "      <td>Unprovoked</td>\n",
       "      <td>AUSTRALIA</td>\n",
       "      <td>Swimming</td>\n",
       "      <td>M</td>\n",
       "      <td>Y</td>\n",
       "      <td>Unknown</td>\n",
       "    </tr>\n",
       "    <tr>\n",
       "      <th>2729</th>\n",
       "      <td>1988.0</td>\n",
       "      <td>Unprovoked</td>\n",
       "      <td>USA</td>\n",
       "      <td>Scuba diving</td>\n",
       "      <td>M</td>\n",
       "      <td>N</td>\n",
       "      <td>Sandtiger shark</td>\n",
       "    </tr>\n",
       "  </tbody>\n",
       "</table>\n",
       "</div>"
      ],
      "text/plain": [
       "        year        type    country                         activity sex  \\\n",
       "1441  2006.0     Invalid     BRAZIL                          Unknown   M   \n",
       "3630  1965.0  Unprovoked        USA                     Spearfishing   M   \n",
       "929   2011.0  Unprovoked  AUSTRALIA  Washing sand off a speared fish   M   \n",
       "5264  1919.0  Unprovoked  AUSTRALIA                         Swimming   M   \n",
       "2729  1988.0  Unprovoked        USA                     Scuba diving   M   \n",
       "\n",
       "        fatal                                            species  \n",
       "1441  Unknown  Shark involvement prior to death was not confi...  \n",
       "3630        N                           White shark, 10' to 12'   \n",
       "929         N                                   reef shark, 1.5m  \n",
       "5264        Y                                            Unknown  \n",
       "2729        N                                    Sandtiger shark  "
      ]
     },
     "execution_count": 24,
     "metadata": {},
     "output_type": "execute_result"
    }
   ],
   "source": [
    "# Sustituyo todos los NaN por \"Unknown\"\n",
    "tiburon7.fillna('Unknown', inplace= True)\n",
    "tiburon7.sample(5)"
   ]
  },
  {
   "cell_type": "code",
   "execution_count": 25,
   "id": "e506c9f5",
   "metadata": {},
   "outputs": [
    {
     "data": {
      "text/plain": [
       "year        0\n",
       "type        0\n",
       "country     0\n",
       "activity    0\n",
       "sex         0\n",
       "fatal       0\n",
       "species     0\n",
       "dtype: int64"
      ]
     },
     "execution_count": 25,
     "metadata": {},
     "output_type": "execute_result"
    }
   ],
   "source": [
    "tiburon7.isna().sum()"
   ]
  },
  {
   "cell_type": "markdown",
   "id": "a7476dc3",
   "metadata": {},
   "source": [
    "## Variable 'year'"
   ]
  },
  {
   "cell_type": "code",
   "execution_count": 26,
   "id": "04f2f0bc",
   "metadata": {},
   "outputs": [],
   "source": [
    "#Ojo!!  Donde haya 1s son Unknown!! \n",
    "tiburon7['year'] = tiburon7['year'].replace(['Unknown'], '1')"
   ]
  },
  {
   "cell_type": "code",
   "execution_count": 27,
   "id": "d4a357ad",
   "metadata": {
    "scrolled": true
   },
   "outputs": [],
   "source": [
    "tiburon7['year'] = tiburon7['year'].astype(int)"
   ]
  },
  {
   "cell_type": "code",
   "execution_count": 28,
   "id": "a43408c1",
   "metadata": {},
   "outputs": [],
   "source": [
    "# tiburon7['year'].unique().tolist()"
   ]
  },
  {
   "cell_type": "code",
   "execution_count": 29,
   "id": "c3e1ae0c",
   "metadata": {},
   "outputs": [],
   "source": [
    "tiburon7['year'] = tiburon7['year'].replace([1], 'Unknown')"
   ]
  },
  {
   "cell_type": "markdown",
   "id": "f85f1a74",
   "metadata": {},
   "source": [
    "## Variable 'type'"
   ]
  },
  {
   "cell_type": "code",
   "execution_count": 30,
   "id": "fd7b58a3",
   "metadata": {},
   "outputs": [],
   "source": [
    "tiburon7['type'] = tiburon7['type'].replace(['Boating', 'Boatomg'], 'Boat')"
   ]
  },
  {
   "cell_type": "code",
   "execution_count": 31,
   "id": "58787a90",
   "metadata": {
    "scrolled": true
   },
   "outputs": [
    {
     "data": {
      "text/plain": [
       "['Boat',\n",
       " 'Unprovoked',\n",
       " 'Invalid',\n",
       " 'Provoked',\n",
       " 'Questionable',\n",
       " 'Sea Disaster',\n",
       " 'Unknown']"
      ]
     },
     "execution_count": 31,
     "metadata": {},
     "output_type": "execute_result"
    }
   ],
   "source": [
    "tiburon7['type'].unique().tolist()"
   ]
  },
  {
   "cell_type": "markdown",
   "id": "bf9ac630",
   "metadata": {},
   "source": [
    "# Variable 'Country' "
   ]
  },
  {
   "cell_type": "code",
   "execution_count": 32,
   "id": "2c70bc0e",
   "metadata": {},
   "outputs": [],
   "source": [
    "# tiburon7['country'].unique().tolist()"
   ]
  },
  {
   "cell_type": "code",
   "execution_count": 33,
   "id": "e8bc2671",
   "metadata": {},
   "outputs": [],
   "source": [
    "tiburon7['country'] = tiburon7['country'].str.lower().str.strip()"
   ]
  },
  {
   "cell_type": "code",
   "execution_count": 34,
   "id": "0e0bfc7e",
   "metadata": {
    "scrolled": false
   },
   "outputs": [],
   "source": [
    "# tiburon7['country'].unique().tolist()"
   ]
  },
  {
   "cell_type": "code",
   "execution_count": 60,
   "id": "2607fcb2",
   "metadata": {},
   "outputs": [
    {
     "data": {
      "text/plain": [
       "usa                 2229\n",
       "australia           1338\n",
       "south africa         579\n",
       "papua new guinea     134\n",
       "new zealand          128\n",
       "Name: country, dtype: int64"
      ]
     },
     "execution_count": 60,
     "metadata": {},
     "output_type": "execute_result"
    }
   ],
   "source": [
    "tiburon7['country'].value_counts().head(5)"
   ]
  },
  {
   "cell_type": "markdown",
   "id": "f9ff4fbd",
   "metadata": {},
   "source": [
    "## Variable 'Sex'"
   ]
  },
  {
   "cell_type": "code",
   "execution_count": 37,
   "id": "7b6971b1",
   "metadata": {},
   "outputs": [
    {
     "data": {
      "text/plain": [
       "['F', 'M', 'Unknown', 'M ', 'lli', 'N', '.']"
      ]
     },
     "execution_count": 37,
     "metadata": {},
     "output_type": "execute_result"
    }
   ],
   "source": [
    "tiburon7['sex'].unique().tolist()"
   ]
  },
  {
   "cell_type": "code",
   "execution_count": 38,
   "id": "3ac0449c",
   "metadata": {},
   "outputs": [],
   "source": [
    "# Se eliminan espacios en blanco\n",
    "tiburon7['sex'] = tiburon7['sex'].str.strip()"
   ]
  },
  {
   "cell_type": "code",
   "execution_count": 39,
   "id": "f17a0d74",
   "metadata": {},
   "outputs": [],
   "source": [
    "# Se crea una función para que todos aquellos carácteres que no sean ni 'M' ni 'F' se sustituyan por 'unknown'\n",
    "def funcion_sex (a):\n",
    "    if a not in ('F', 'M'):\n",
    "        return 'Unknown'\n",
    "    else:\n",
    "        return a"
   ]
  },
  {
   "cell_type": "code",
   "execution_count": 40,
   "id": "d5207960",
   "metadata": {},
   "outputs": [],
   "source": [
    "# Se aplica la función a toda la columna\n",
    "tiburon7.sex = tiburon7.sex.apply(funcion_sex)"
   ]
  },
  {
   "cell_type": "code",
   "execution_count": 41,
   "id": "94b0e9ad",
   "metadata": {},
   "outputs": [
    {
     "data": {
      "text/plain": [
       "['F', 'M', 'Unknown']"
      ]
     },
     "execution_count": 41,
     "metadata": {},
     "output_type": "execute_result"
    }
   ],
   "source": [
    "# Comprobamos que todo esté ok\n",
    "tiburon7['sex'].unique().tolist()"
   ]
  },
  {
   "cell_type": "markdown",
   "id": "80e0b91e",
   "metadata": {},
   "source": [
    "## Variable 'fatal'"
   ]
  },
  {
   "cell_type": "code",
   "execution_count": 42,
   "id": "76cb9e52",
   "metadata": {},
   "outputs": [],
   "source": [
    "tiburon7.fatal = tiburon7.fatal.str.replace(' ', '').str.upper()"
   ]
  },
  {
   "cell_type": "code",
   "execution_count": 43,
   "id": "2e9601ef",
   "metadata": {},
   "outputs": [
    {
     "data": {
      "text/plain": [
       "['N', 'Y', 'UNKNOWN', 'M', '2017']"
      ]
     },
     "execution_count": 43,
     "metadata": {},
     "output_type": "execute_result"
    }
   ],
   "source": [
    "tiburon7['fatal'].unique().tolist()"
   ]
  },
  {
   "cell_type": "code",
   "execution_count": 44,
   "id": "56647e65",
   "metadata": {},
   "outputs": [],
   "source": [
    "tiburon7['fatal'] = tiburon7['fatal'].replace(['2017','M'], 'UNKNOWN')"
   ]
  },
  {
   "cell_type": "code",
   "execution_count": 45,
   "id": "3d501164",
   "metadata": {},
   "outputs": [],
   "source": [
    "tiburon7['fatal'] = tiburon7['fatal'].replace(['UNKNOWN'], 'Unknown')"
   ]
  },
  {
   "cell_type": "code",
   "execution_count": 46,
   "id": "0bf6224b",
   "metadata": {},
   "outputs": [
    {
     "data": {
      "text/plain": [
       "['N', 'Y', 'Unknown']"
      ]
     },
     "execution_count": 46,
     "metadata": {},
     "output_type": "execute_result"
    }
   ],
   "source": [
    "tiburon7['fatal'].unique().tolist()"
   ]
  },
  {
   "cell_type": "markdown",
   "id": "2295adfd",
   "metadata": {},
   "source": [
    "## Variable 'species'"
   ]
  },
  {
   "cell_type": "code",
   "execution_count": 47,
   "id": "688f0b7d",
   "metadata": {},
   "outputs": [],
   "source": [
    "# tiburon7['species'].unique().tolist()"
   ]
  },
  {
   "cell_type": "code",
   "execution_count": 49,
   "id": "3afc6b5d",
   "metadata": {},
   "outputs": [
    {
     "name": "stderr",
     "output_type": "stream",
     "text": [
      "<ipython-input-49-91f2f07c4000>:2: FutureWarning: The default value of regex will change from True to False in a future version.\n",
      "  tiburon7.species = tiburon7.species.str.replace('[\\d]+.', '').str.lower()\n"
     ]
    }
   ],
   "source": [
    "#Elimino todos los números que hay en la lista y se pasa todo a minúsculas\n",
    "tiburon7.species = tiburon7.species.str.replace('[\\d]+.', '').str.lower()"
   ]
  },
  {
   "cell_type": "code",
   "execution_count": 50,
   "id": "c8ff6c8a",
   "metadata": {},
   "outputs": [],
   "source": [
    "# tiburon7['species'].unique().tolist()"
   ]
  },
  {
   "cell_type": "code",
   "execution_count": 51,
   "id": "21c2a3d0",
   "metadata": {
    "scrolled": false
   },
   "outputs": [
    {
     "data": {
      "text/plain": [
       "unknown                                               2839\n",
       " shark                                                 234\n",
       "m [] shark                                             211\n",
       "white shark                                            164\n",
       "shark involvement prior to death was not confirmed     105\n",
       "invalid                                                102\n",
       " to  shark                                             100\n",
       "m shark                                                100\n",
       "shark involvement not confirmed                         89\n",
       "tiger shark                                             73\n",
       "Name: species, dtype: int64"
      ]
     },
     "execution_count": 51,
     "metadata": {},
     "output_type": "execute_result"
    }
   ],
   "source": [
    "tiburon7['species'].value_counts().head(10)"
   ]
  },
  {
   "cell_type": "code",
   "execution_count": 52,
   "id": "2baa0daa",
   "metadata": {},
   "outputs": [],
   "source": [
    "import re\n",
    "L = ['white shark', 'tiger shark', 'bull shark', 'mako shark', \n",
    "     'lemon shark', 'whitetip shark', 'blue shark', 'galapagos shark', 'caribbean shark', 'dusty shark', \n",
    "     'black shark', 'silky shark', 'reef shark', 'hammerhead shark', 'nurse shark', 'blacktip shark', \n",
    "     'wobbegong shark', 'raggedtooth shark']\n",
    "\n",
    "pat = '|'.join(r\"\\b{}\\b\".format(x) for x in L)\n",
    "\n",
    "tiburon7['especies'] = tiburon7['species'].str.extract('('+ pat + ')', expand=False, flags=re.I)"
   ]
  },
  {
   "cell_type": "code",
   "execution_count": 53,
   "id": "0b29af22",
   "metadata": {},
   "outputs": [
    {
     "data": {
      "text/plain": [
       "['white shark',\n",
       " nan,\n",
       " 'tiger shark',\n",
       " 'lemon shark',\n",
       " 'bull shark',\n",
       " 'reef shark',\n",
       " 'nurse shark',\n",
       " 'wobbegong shark',\n",
       " 'blacktip shark',\n",
       " 'galapagos shark',\n",
       " 'whitetip shark',\n",
       " 'blue shark',\n",
       " 'mako shark',\n",
       " 'silky shark',\n",
       " 'hammerhead shark',\n",
       " 'raggedtooth shark']"
      ]
     },
     "execution_count": 53,
     "metadata": {},
     "output_type": "execute_result"
    }
   ],
   "source": [
    "tiburon7['especies'].unique().tolist()"
   ]
  },
  {
   "cell_type": "code",
   "execution_count": 54,
   "id": "6cc4382e",
   "metadata": {},
   "outputs": [
    {
     "data": {
      "text/plain": [
       "1573"
      ]
     },
     "execution_count": 54,
     "metadata": {},
     "output_type": "execute_result"
    }
   ],
   "source": [
    "tiburon7['especies'].value_counts().sum()"
   ]
  },
  {
   "cell_type": "code",
   "execution_count": 55,
   "id": "dbe25270",
   "metadata": {},
   "outputs": [
    {
     "data": {
      "text/plain": [
       "4729"
      ]
     },
     "execution_count": 55,
     "metadata": {},
     "output_type": "execute_result"
    }
   ],
   "source": [
    "tiburon7.especies.isna().sum()"
   ]
  },
  {
   "cell_type": "code",
   "execution_count": null,
   "id": "3de0bd0f",
   "metadata": {},
   "outputs": [],
   "source": [
    "#tiburon7.fillna('Unknown', inplace= True)"
   ]
  },
  {
   "cell_type": "code",
   "execution_count": 58,
   "id": "0d3e22bf",
   "metadata": {},
   "outputs": [],
   "source": [
    "## Exportar csv limpio a mi carpeta:\n",
    "tiburon7.to_csv('sharks_clean.csv', index = False)"
   ]
  },
  {
   "cell_type": "code",
   "execution_count": null,
   "id": "fe8b4e91",
   "metadata": {},
   "outputs": [],
   "source": []
  }
 ],
 "metadata": {
  "kernelspec": {
   "display_name": "ironhack",
   "language": "python",
   "name": "ironhack"
  },
  "language_info": {
   "codemirror_mode": {
    "name": "ipython",
    "version": 3
   },
   "file_extension": ".py",
   "mimetype": "text/x-python",
   "name": "python",
   "nbconvert_exporter": "python",
   "pygments_lexer": "ipython3",
   "version": "3.8.2"
  }
 },
 "nbformat": 4,
 "nbformat_minor": 5
}
